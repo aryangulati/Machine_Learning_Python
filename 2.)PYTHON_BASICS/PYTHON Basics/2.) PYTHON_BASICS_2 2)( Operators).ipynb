{
 "cells": [
  {
   "cell_type": "markdown",
   "metadata": {},
   "source": [
    "# Operators"
   ]
  },
  {
   "cell_type": "markdown",
   "metadata": {},
   "source": [
    "## 1. Arithmetic operators\n",
    " \n",
    "| Symbol | Task Performed |\n",
    "|----|--------------------|\n",
    "| +  | Addition |\n",
    "| -  | Subtraction |\n",
    "| /  | division |\n",
    "| %  | mod |\n",
    "| *  | multiplication |\n",
    "| //  | floor division |\n",
    "| **  | to the power of |"
   ]
  },
  {
   "cell_type": "code",
   "execution_count": 1,
   "metadata": {},
   "outputs": [
    {
     "name": "stdout",
     "output_type": "stream",
     "text": [
      "7\n",
      "3\n",
      "5.0\n",
      "10\n",
      "10\n",
      "5\n",
      "32\n"
     ]
    }
   ],
   "source": [
    "print(2 + 5)\n",
    "print(5 - 2)\n",
    "print(10 / 2) # gives float value\n",
    "print(110 % 100) # remainder \n",
    "print(5*2)\n",
    "print(10 // 2) # floor division \n",
    "print(2**5)   # a^b"
   ]
  },
  {
   "cell_type": "markdown",
   "metadata": {},
   "source": [
    "## 2. Comparison operators\n",
    "\n",
    "   | Symbol | Task Performed |\n",
    "   |----|---|\n",
    "   | == | True, if it is equal |\n",
    "   | !=  | True, if not equal to |\n",
    "   | < | less than |\n",
    "   | > | greater than |\n",
    "   | <=  | less than or equal to |\n",
    "   | >=  | greater than or equal to |"
   ]
  },
  {
   "cell_type": "code",
   "execution_count": 2,
   "metadata": {},
   "outputs": [
    {
     "name": "stdout",
     "output_type": "stream",
     "text": [
      "True\n",
      "False\n",
      "True\n",
      "False\n",
      "True\n",
      "False\n"
     ]
    }
   ],
   "source": [
    "print(2==2)\n",
    "print(2!=2)\n",
    "print(2<3)\n",
    "print(2>2)\n",
    "print(2<=3)\n",
    "print(2>=3)"
   ]
  },
  {
   "cell_type": "code",
   "execution_count": 3,
   "metadata": {},
   "outputs": [
    {
     "name": "stdout",
     "output_type": "stream",
     "text": [
      "True\n",
      "False\n",
      "True\n",
      "65\n",
      "97\n"
     ]
    }
   ],
   "source": [
    "# we can also do String comparsion (lexographically)\n",
    "print(\"abc\" < \"abd\")\n",
    "print(\"xy\" < \"abc\")\n",
    "print(\"ABC\" < \"abc\") # here it see ASCII value\n",
    "print(ord(\"A\"))\n",
    "print(ord(\"a\"))\n"
   ]
  },
  {
   "cell_type": "markdown",
   "metadata": {},
   "source": [
    "## 3. Assignment operators\n",
    "\n",
    "- =\n",
    "- +=\n",
    "- -=\n",
    "- *=\n",
    "- /=\n",
    "- %=\n",
    "- //= &nbsp;     means x=x//4\n",
    "- \\**= &nbsp;    means x=x\\**2\n",
    "- &=   &nbsp;    means x=x & 2  &nbsp;  (and)\n",
    "- |=  &nbsp;     means x=x|2  &nbsp;     (or)\n",
    "- ^=\n",
    "- \\>>=  &nbsp;   both of these are shift op.(bitwise operators)\n",
    "- <<="
   ]
  },
  {
   "cell_type": "markdown",
   "metadata": {},
   "source": [
    "## 4. Logical Operators\n",
    "\n",
    "   | Symbol | Task Performed |\n",
    "   |----|---|\n",
    "   | and | True if both statements are true |\n",
    "   | or  | True if one of the statements is true |\n",
    "   | not | opposite of the result(reverse the result) |\n",
    "   "
   ]
  },
  {
   "cell_type": "code",
   "execution_count": 5,
   "metadata": {},
   "outputs": [
    {
     "data": {
      "text/plain": [
       "True"
      ]
     },
     "execution_count": 5,
     "metadata": {},
     "output_type": "execute_result"
    }
   ],
   "source": [
    "isinstance(1,int)"
   ]
  },
  {
   "cell_type": "code",
   "execution_count": 6,
   "metadata": {},
   "outputs": [
    {
     "data": {
      "text/plain": [
       "True"
      ]
     },
     "execution_count": 6,
     "metadata": {},
     "output_type": "execute_result"
    }
   ],
   "source": [
    "isinstance(1.0,float)"
   ]
  },
  {
   "cell_type": "code",
   "execution_count": 7,
   "metadata": {},
   "outputs": [
    {
     "name": "stdout",
     "output_type": "stream",
     "text": [
      "True\n",
      "True\n",
      "6\n",
      "6\n",
      "<class 'bool'>\n"
     ]
    }
   ],
   "source": [
    "print(isinstance(True,bool))\n",
    "print(isinstance(True,int))\n",
    "print(5 + True) #True is nothingbut is integer (inherted from integers)\n",
    "print(5 + bool(1))\n",
    "print(type(True))"
   ]
  },
  {
   "cell_type": "code",
   "execution_count": 8,
   "metadata": {},
   "outputs": [
    {
     "name": "stdout",
     "output_type": "stream",
     "text": [
      "True\n",
      "False\n"
     ]
    }
   ],
   "source": [
    "print(True and True)\n",
    "print(not True) #hence similarly you can print truth table    "
   ]
  },
  {
   "cell_type": "code",
   "execution_count": 9,
   "metadata": {},
   "outputs": [
    {
     "data": {
      "text/plain": [
       "0"
      ]
     },
     "execution_count": 9,
     "metadata": {},
     "output_type": "execute_result"
    }
   ],
   "source": [
    "#truthy value - +int,-int, \" \", True\n",
    "#falsy value  - 0, \"\", False\n",
    "5 and 0\n",
    "\n",
    "# and can be represented as &&\n",
    "# or can be represented as ||\n"
   ]
  },
  {
   "cell_type": "markdown",
   "metadata": {},
   "source": [
    "a truthy value is a value that is considered true when encountered in a Boolean context. All values are truthy unless they are defined as falsy (i.e., except for false , 0 , -0 , 0n , \"\" , null , undefined , and NaN )."
   ]
  },
  {
   "cell_type": "markdown",
   "metadata": {},
   "source": [
    "#### Short Circuiting "
   ]
  },
  {
   "cell_type": "markdown",
   "metadata": {},
   "source": [
    "0 || B = B <br>\n",
    "1 || B = 1 <br>\n",
    "0 && B = 0 <br>\n",
    "1 && B = B <br>"
   ]
  },
  {
   "cell_type": "code",
   "execution_count": 11,
   "metadata": {},
   "outputs": [
    {
     "data": {
      "text/plain": [
       "0"
      ]
     },
     "execution_count": 11,
     "metadata": {},
     "output_type": "execute_result"
    }
   ],
   "source": [
    "\" \" and \"aryan\" #true and true gives us true\n",
    "0 and 1\n"
   ]
  },
  {
   "cell_type": "markdown",
   "metadata": {},
   "source": [
    "## 5. Bitwise Operators\n",
    "| Symbol | Task Performed |\n",
    "|----|---|\n",
    "| & | Sets each bit to 1 if both bits are 1  |\n",
    "| \\| | Sets each bit to 1 if one of two bits is 1  |\n",
    "| ^ |  Sets each bit to 1 if only one of two bits is 1  |\n",
    "| ~ |   Inverts all the bits |\n",
    "| >> | Shift left by pushing zeros in from the right and let the leftmost bits fall off   |\n",
    "| << |  Shift right by pushing copies of the leftmost bit in from the left, and let the rightmost bits fall off  |\n"
   ]
  },
  {
   "cell_type": "markdown",
   "metadata": {},
   "source": [
    "## 6. Identity and Membership Operators\n",
    "\n",
    "| Symbol | Task Performed |\n",
    "   |----|---|\n",
    "   |**Identity**|   |\n",
    "   | is | True if both variables are the same object |\n",
    "   | is not  | True if both variables are not the same object |\n",
    "   | **Membership**|   |\n",
    "   | in | True if a sequence with the specified value is present in the object |\n",
    "   | not in | True if a sequence with the specified value is not present in the object |"
   ]
  },
  {
   "cell_type": "code",
   "execution_count": 12,
   "metadata": {},
   "outputs": [
    {
     "data": {
      "text/plain": [
       "65"
      ]
     },
     "execution_count": 12,
     "metadata": {},
     "output_type": "execute_result"
    }
   ],
   "source": [
    "ord(\"A\")"
   ]
  },
  {
   "cell_type": "code",
   "execution_count": 13,
   "metadata": {},
   "outputs": [
    {
     "data": {
      "text/plain": [
       "False"
      ]
     },
     "execution_count": 13,
     "metadata": {},
     "output_type": "execute_result"
    }
   ],
   "source": [
    "\n",
    "(2>7) and (5>7) \n",
    "#to fullfill \"and\" operaator\n",
    "#all the coditions should be true"
   ]
  },
  {
   "cell_type": "code",
   "execution_count": 14,
   "metadata": {},
   "outputs": [
    {
     "data": {
      "text/plain": [
       "True"
      ]
     },
     "execution_count": 14,
     "metadata": {},
     "output_type": "execute_result"
    }
   ],
   "source": [
    "(7>=7 ) or (7>10)"
   ]
  },
  {
   "cell_type": "code",
   "execution_count": 15,
   "metadata": {},
   "outputs": [
    {
     "data": {
      "text/plain": [
       "False"
      ]
     },
     "execution_count": 15,
     "metadata": {},
     "output_type": "execute_result"
    }
   ],
   "source": [
    "not True\n"
   ]
  },
  {
   "cell_type": "code",
   "execution_count": 16,
   "metadata": {},
   "outputs": [
    {
     "data": {
      "text/plain": [
       "True"
      ]
     },
     "execution_count": 16,
     "metadata": {},
     "output_type": "execute_result"
    }
   ],
   "source": [
    "not( 3>5)"
   ]
  },
  {
   "cell_type": "code",
   "execution_count": 17,
   "metadata": {},
   "outputs": [
    {
     "data": {
      "text/plain": [
       "0"
      ]
     },
     "execution_count": 17,
     "metadata": {},
     "output_type": "execute_result"
    }
   ],
   "source": [
    "10 & 4"
   ]
  },
  {
   "cell_type": "code",
   "execution_count": 18,
   "metadata": {},
   "outputs": [
    {
     "data": {
      "text/plain": [
       "14"
      ]
     },
     "execution_count": 18,
     "metadata": {},
     "output_type": "execute_result"
    }
   ],
   "source": [
    "10|4"
   ]
  },
  {
   "cell_type": "code",
   "execution_count": 19,
   "metadata": {},
   "outputs": [
    {
     "data": {
      "text/plain": [
       "'0b1010'"
      ]
     },
     "execution_count": 19,
     "metadata": {},
     "output_type": "execute_result"
    }
   ],
   "source": [
    "bin(10)"
   ]
  },
  {
   "cell_type": "code",
   "execution_count": 20,
   "metadata": {},
   "outputs": [
    {
     "data": {
      "text/plain": [
       "10"
      ]
     },
     "execution_count": 20,
     "metadata": {},
     "output_type": "execute_result"
    }
   ],
   "source": [
    "0b1010"
   ]
  },
  {
   "cell_type": "markdown",
   "metadata": {},
   "source": [
    "## Numpy logical operators"
   ]
  },
  {
   "cell_type": "markdown",
   "metadata": {},
   "source": [
    "The Python Numpy logical operators and logical functions are to compute truth value using the Truth table, i.,e Boolean True or false. Python numpy logical functions are logical_and, logical_or, logical_not, and logical_xor. Like any other programming, numpy has regular logical operators like and, or, not and xor."
   ]
  },
  {
   "cell_type": "code",
   "execution_count": 2,
   "metadata": {},
   "outputs": [
    {
     "name": "stdout",
     "output_type": "stream",
     "text": [
      "[False  True False  True]\n",
      "[False False False  True]\n"
     ]
    }
   ],
   "source": [
    "# Create arrays\n",
    "import numpy as np\n",
    "my_house = np.array([18.0, 20.0, 10.75, 9.50])\n",
    "your_house = np.array([14.0, 24.0, 14.25, 9.0])\n",
    "\n",
    "# my_house greater than 18.5 or smaller than 10\n",
    "print(np.logical_or(my_house > 18.5 , my_house < 10))\n",
    "\n",
    "# Both my_house and your_house smaller than 11\n",
    "print( np.logical_and(my_house <11, your_house<11 ))"
   ]
  },
  {
   "cell_type": "code",
   "execution_count": 3,
   "metadata": {},
   "outputs": [
    {
     "name": "stdout",
     "output_type": "stream",
     "text": [
      "[ 5  0  8  2 22  7  4 11  9  1  6]\n",
      "---logical_not result  of an array---\n",
      " [ True  True  True  True False  True  True False False  True  True]\n",
      "\n",
      "[[ 0.8154415  -0.58678741  0.8880703  -0.31699306]\n",
      " [ 1.30808007 -0.70791222  1.58799425 -0.42626683]\n",
      " [-1.41821407 -0.32718429  0.20253031 -0.9241459 ]]\n",
      "\n",
      "---logical_not result of Two Dimensional Array--- \n",
      " [[ True  True  True  True]\n",
      " [False  True False  True]\n",
      " [ True  True  True  True]]\n",
      "\n",
      "[[[11  1 11  1  5]\n",
      "  [ 3  7 13 16  7]\n",
      "  [ 1  9  8 17  7]]\n",
      "\n",
      " [[12 14 15 11 10]\n",
      "  [14 15 16  7 11]\n",
      "  [ 8 18 16  3 16]]]\n",
      "\n",
      "---logical_not result of Three Dimensional Array---\n",
      " [[[ True False  True False False]\n",
      "  [False False  True  True False]\n",
      "  [False False False  True False]]\n",
      "\n",
      " [[ True  True  True  True  True]\n",
      "  [ True  True  True False  True]\n",
      "  [False  True  True False  True]]]\n"
     ]
    }
   ],
   "source": [
    "x = np.array([5, 0, 8, 2, 22, 7, 4, 11, 9, 1, 6])\n",
    "print(x)\n",
    "print('---logical_not result  of an array---\\n', np.logical_not(x > 8))\n",
    "print()\n",
    " \n",
    "y = np.random.randn(3, 4)\n",
    "print(y)\n",
    "print('\\n---logical_not result of Two Dimensional Array--- \\n',\n",
    "      np.logical_not(y > 1))\n",
    "print()\n",
    " \n",
    "z = np.random.randint(1, 20, size = (2, 3, 5))\n",
    "print(z)\n",
    "print('\\n---logical_not result of Three Dimensional Array---\\n',\n",
    "      np.logical_not(z < 10))\n"
   ]
  },
  {
   "cell_type": "markdown",
   "metadata": {},
   "source": [
    "Reference For Numpy Logical Operator"
   ]
  },
  {
   "cell_type": "markdown",
   "metadata": {},
   "source": [
    "[Reference1](https://www.tutorialgateway.org/python-numpy-logical-operators/#:~:text=The%20Python%20Numpy%20logical%20operators,%2C%20or%2C%20not%20and%20xor.)"
   ]
  },
  {
   "cell_type": "markdown",
   "metadata": {},
   "source": [
    "[Reference2](https://www.geeksforgeeks.org/numpy-logical_and-python/)"
   ]
  },
  {
   "cell_type": "code",
   "execution_count": null,
   "metadata": {},
   "outputs": [],
   "source": []
  }
 ],
 "metadata": {
  "kernelspec": {
   "display_name": "Python 3",
   "language": "python",
   "name": "python3"
  },
  "language_info": {
   "codemirror_mode": {
    "name": "ipython",
    "version": 3
   },
   "file_extension": ".py",
   "mimetype": "text/x-python",
   "name": "python",
   "nbconvert_exporter": "python",
   "pygments_lexer": "ipython3",
   "version": "3.8.5"
  }
 },
 "nbformat": 4,
 "nbformat_minor": 4
}
