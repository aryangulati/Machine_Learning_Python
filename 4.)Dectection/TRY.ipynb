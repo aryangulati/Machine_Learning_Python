{
 "cells": [
  {
   "cell_type": "code",
   "execution_count": 1,
   "metadata": {},
   "outputs": [],
   "source": [
    "import cv2\n",
    "import numpy as np\n",
    "\n",
    "\n",
    "cam = cv2.VideoCapture(0)\n",
    "\n",
    "face_cascade = cv2.CascadeClassifier(\"./haarcascade_frontalface_alt.xml\")\n",
    "#we can also add other classifier in it\n",
    "\n",
    "# face_data = []\n",
    "while True:\n",
    "    ret, frame = cam.read()\n",
    "    if ret == False:\n",
    "        continue\n",
    "    gray_frame = cv2.cvtColor(frame, cv2.COLOR_BGR2GRAY) # bgr -> grayscale conversion\n",
    "    faces = face_cascade.detectMultiScale(gray_frame, 1.3, 5)    \n",
    "    #face_section =None\n",
    "\n",
    "    \n",
    "    \n",
    "    for face in faces:\n",
    "        x, y, w, h = face\n",
    "        cv2.rectangle(frame, (x,y), (x+w, y+h), (255, 0, 0), 2)\n",
    "        \n",
    "        offset = 10\n",
    "        face_section = frame[y-offset : y+h+offset , x-offset : x+w+offset]\n",
    "        face_section = cv2.resize(face_section , (100 , 100))\n",
    "        \n",
    "#         face_data.append(face_section)\n",
    "#         cv2.imshow(\"cropped face\", face_section)\n",
    "    \n",
    "    cv2.imshow(\"window\", frame)\n",
    "\n",
    "\n",
    "        \n",
    "    for counter, cropped in enumerate(face_section):\n",
    "        cv2.imshow(\"cropped face\", face_section)\n",
    "\n",
    "        \n",
    "        \n",
    "    key = cv2.waitKey(1) # 1ms\n",
    "    if key == ord(\"q\"):\n",
    "        break   \n",
    "\n",
    "cam.release()\n",
    "cv2.destroyAllWindows()\n",
    "\n",
    "# print(len(face_data))\n",
    "# print(face_data[0].shape)\n",
    "\n",
    "# face_data = np.array(face_data) # making Face data list-->numpy array\n",
    "# face_data = face_data.reshape(face_data.shape[0], 3*100*100) #we can also put -1 instead of 30000 so it automatically alot sizre for features\n",
    "# print(face_data.shape)\n",
    "\n",
    "# np.save(dataset_path+name + \".npy\", face_data) #it saves (where to save director, what to save)\n",
    "# print(\"data saved at \" + dataset_path+name + \".npy\")"
   ]
  },
  {
   "cell_type": "code",
   "execution_count": 3,
   "metadata": {},
   "outputs": [
    {
     "ename": "KeyboardInterrupt",
     "evalue": "",
     "output_type": "error",
     "traceback": [
      "\u001b[1;31m---------------------------------------------------------------------------\u001b[0m",
      "\u001b[1;31mKeyboardInterrupt\u001b[0m                         Traceback (most recent call last)",
      "\u001b[1;32m<ipython-input-3-da8c501ac6a8>\u001b[0m in \u001b[0;36m<module>\u001b[1;34m\u001b[0m\n\u001b[0;32m      8\u001b[0m \u001b[1;33m\u001b[0m\u001b[0m\n\u001b[0;32m      9\u001b[0m \u001b[1;32mwhile\u001b[0m \u001b[1;32mTrue\u001b[0m\u001b[1;33m:\u001b[0m\u001b[1;33m\u001b[0m\u001b[1;33m\u001b[0m\u001b[0m\n\u001b[1;32m---> 10\u001b[1;33m     \u001b[0mret\u001b[0m\u001b[1;33m,\u001b[0m \u001b[0mframe\u001b[0m \u001b[1;33m=\u001b[0m \u001b[0mcam\u001b[0m\u001b[1;33m.\u001b[0m\u001b[0mread\u001b[0m\u001b[1;33m(\u001b[0m\u001b[1;33m)\u001b[0m\u001b[1;33m\u001b[0m\u001b[1;33m\u001b[0m\u001b[0m\n\u001b[0m\u001b[0;32m     11\u001b[0m     \u001b[1;32mif\u001b[0m \u001b[0mret\u001b[0m \u001b[1;33m==\u001b[0m \u001b[1;32mFalse\u001b[0m\u001b[1;33m:\u001b[0m\u001b[1;33m\u001b[0m\u001b[1;33m\u001b[0m\u001b[0m\n\u001b[0;32m     12\u001b[0m         \u001b[1;32mcontinue\u001b[0m\u001b[1;33m\u001b[0m\u001b[1;33m\u001b[0m\u001b[0m\n",
      "\u001b[1;31mKeyboardInterrupt\u001b[0m: "
     ]
    }
   ],
   "source": [
    "import cv2\n",
    "import numpy as np\n",
    "\n",
    "\n",
    "cam = cv2.VideoCapture(0)\n",
    "\n",
    "face_cascade = cv2.CascadeClassifier(\"./haarcascade_frontalface_alt.xml\")\n",
    "\n",
    "while True:\n",
    "    ret, frame = cam.read()\n",
    "    if ret == False:\n",
    "        continue\n",
    "    gray_frame = cv2.cvtColor(frame, cv2.COLOR_BGR2GRAY) # bgr -> grayscale conversion\n",
    "    faces = face_cascade.detectMultiScale(gray_frame, 1.3, 5)\n",
    "    for face in faces:\n",
    "        x, y, w, h = face\n",
    "        cv2.rectangle(frame, (x,y), (x+w, y+h), (255, 0, 0), 2)\n",
    "        \n",
    "        offset = 10\n",
    "        face_section = frame[y-offset : y+h+offset , x-offset : x+w+offset]\n",
    "        face_section = cv2.resize(face_section , (100 , 100))\n",
    "        \n",
    "#         face_data.append(face_section)\n",
    "        cv2.imshow(\"cropped face\", face_section)\n",
    "    \n",
    "    cv2.imshow(\"window\", frame)\n",
    "\n",
    "    key = cv2.waitKey(1) # 1ms\n",
    "    if key == ord(\"q\"):\n",
    "        break\n",
    "\n",
    "cam.release()\n",
    "cv2.destroyAllWindows()"
   ]
  },
  {
   "cell_type": "code",
   "execution_count": 4,
   "metadata": {},
   "outputs": [],
   "source": [
    "import cv2\n",
    "import numpy as np\n",
    "\n",
    "cam = cv2.VideoCapture(0)\n",
    "face_cascade = cv2.CascadeClassifier(\"haarcascade_frontalface_alt.xml\")"
   ]
  },
  {
   "cell_type": "code",
   "execution_count": 1,
   "metadata": {},
   "outputs": [],
   "source": [
    "import numpy as np\n",
    "import cv2\n",
    "\n",
    "cap = cv2.VideoCapture(0)\n",
    "\n",
    "x = 0\n",
    "while True:\n",
    "    ret, frame = cap.read()\n",
    "\n",
    "    cv2.imshow('frame',frame)\n",
    "\n",
    "    if cv2.waitKey(1) == ord('q'):\n",
    "        break\n",
    "\n",
    "cap.release()\n",
    "cv2.destroyAllWindows()"
   ]
  },
  {
   "cell_type": "code",
   "execution_count": 5,
   "metadata": {},
   "outputs": [],
   "source": [
    "import numpy as np\n",
    "import cv2\n",
    "import random\n",
    "\n",
    "a = np.zeros((500,500,3),dtype=np.uint8)\n",
    "b = np.zeros((1000,1000,3),dtype=np.uint8)\n",
    "c = np.zeros((800,800,3),dtype=np.uint8)"
   ]
  },
  {
   "cell_type": "code",
   "execution_count": 6,
   "metadata": {},
   "outputs": [],
   "source": [
    "a[0:500,0:500]=[255,255,0]\n",
    "a[100:200,100:200]=[0,0,255]\n",
    "a[100:200,300:400]=[0,0,255]\n",
    "a[300:350,100:150]=a[350:400,150:350]=a[300:350,350:400]=[0,0,255]\n",
    "\n",
    "\n",
    "cv2.imshow(\"viv1.jpg\",a)\n",
    "# cv2.imshow(\"viv1\",viv1)\n",
    "cv2.waitKey()\n",
    "cv2.destroyAllWindows()\n"
   ]
  },
  {
   "cell_type": "code",
   "execution_count": 11,
   "metadata": {},
   "outputs": [
    {
     "data": {
      "text/plain": [
       "(500, 500, 3)"
      ]
     },
     "execution_count": 11,
     "metadata": {},
     "output_type": "execute_result"
    }
   ],
   "source": [
    "a.shape"
   ]
  },
  {
   "cell_type": "code",
   "execution_count": 1,
   "metadata": {},
   "outputs": [],
   "source": [
    "import cv2\n",
    "import numpy\n",
    "p1 = cv2.imread(\"p1.jpg\")\n",
    "p2 = cv2.imread(\"p2.jpg\")\n",
    "\n",
    "\n",
    "model = cv2.CascadeClassifier(cv2.data.haarcascades + 'haarcascade_frontalface_default.xml')\n",
    "\n",
    "\n",
    "f1 =  model.detectMultiScale(p1)\n",
    "f2 =  model.detectMultiScale(p2)\n"
   ]
  },
  {
   "cell_type": "code",
   "execution_count": 3,
   "metadata": {},
   "outputs": [],
   "source": [
    "x1=f1[0][0]\n",
    "y1=f1[0][1]\n",
    "x2=x1 + f1[0][2]\n",
    "y2=y1 + f1[0][3]\n",
    "\n",
    "\n",
    "# rp1 = cv2.rectangle(p1, (x1,y1),(x2,y2), [0,255,0], 5 )\n",
    "\n",
    "\n",
    "xx1=f2[0][0]\n",
    "yy1=f2[0][1]\n",
    "xx2=xx1 + f2[0][2]\n",
    "yy2=yy1 + f2[0][3]\n",
    "\n",
    "\n",
    "# rp2 = cv2.rectangle(p2, (xx1,yy1),(xx2,yy2), [0,255,0], 5 )\n",
    "\n",
    "\n",
    "# cv2.imshow(\"rp1\",rp1)\n",
    "# cv2.imshow(\"rp2\",rp2)\n",
    "cv2.waitKey()\n",
    "cv2.destroyAllWindows()"
   ]
  },
  {
   "cell_type": "code",
   "execution_count": 4,
   "metadata": {},
   "outputs": [],
   "source": [
    "temp = numpy.zeros((y2-y1,x2-x1,3),dtype=numpy.uint8)\n",
    "temp[0:y2-y1,0:x2-x1] = p1[y1:y2,x1:x2]\n",
    "\n",
    "p1[y1:y2,x1:x2] = cv2.resize(p2[yy1:yy2 , xx1:xx2] , (y2-y1 , x2-x1))\n",
    "p2[yy1:yy2 , xx1:xx2] = cv2.resize(temp , (yy2-yy1 , xx2-xx1))"
   ]
  },
  {
   "cell_type": "code",
   "execution_count": null,
   "metadata": {},
   "outputs": [],
   "source": [
    "cv2.imshow(\"p1\",p1)\n",
    "cv2.imshow(\"p2\",p2)\n",
    "cv2.waitKey()\n",
    "cv2.destroyAllWindows()"
   ]
  },
  {
   "cell_type": "code",
   "execution_count": null,
   "metadata": {},
   "outputs": [],
   "source": [
    "import cv2\n",
    "import numpy as np\n",
    "\n",
    "\n",
    "cam = cv2.VideoCapture(0)\n",
    "\n",
    "face_cascade = cv2.CascadeClassifier(\"./haarcascade_frontalface_alt.xml\")\n",
    "\n",
    "while True:\n",
    "    ret, frame = cam.read()\n",
    "    if ret == False:\n",
    "        continue\n",
    "    gray_frame = cv2.cvtColor(frame, cv2.COLOR_BGR2GRAY) # bgr -> grayscale conversion\n",
    "    faces = face_cascade.detectMultiScale(gray_frame, 1.3, 5)\n",
    "    for face in faces:\n",
    "        x, y, w, h = face\n",
    "        cv2.rectangle(frame, (x,y), (x+w, y+h), (255, 0, 0), 2)\n",
    "        \n",
    "        offset = 10\n",
    "        face_section = frame[y-offset : y+h+offset , x-offset : x+w+offset]\n",
    "        face_section = cv2.resize(face_section , (100 , 100))\n",
    "        \n",
    "#         face_data.append(face_section)\n",
    "        cv2.imshow(\"cropped face\", face_section)\n",
    "    \n",
    "    cv2.imshow(\"window\", frame)\n",
    "\n",
    "    key = cv2.waitKey(1) # 1ms\n",
    "    if key == ord(\"q\"):\n",
    "        break\n",
    "\n",
    "cam.release()\n",
    "cv2.destroyAllWindows()"
   ]
  },
  {
   "cell_type": "code",
   "execution_count": 2,
   "metadata": {},
   "outputs": [
    {
     "name": "stdout",
     "output_type": "stream",
     "text": [
      "Enter City : delhi\n",
      "Temperature in delhi is: 12°C\n"
     ]
    }
   ],
   "source": [
    "import requests\n",
    "from bs4 import BeautifulSoup\n",
    "\n",
    "# Taking City You Want to Check Temperaature\n",
    "city = input(\"Enter City : \")\n",
    "# Storing City You Want to Check Temperaature\n",
    "search = \"weather in\" + city\n",
    "# Searching it on google\n",
    "url = f\"https://www.google.com/search?&q={search}\"\n",
    "# Sending and Receiving Requests\n",
    "r = requests.get(url)\n",
    "# Scraping Details\n",
    "s = BeautifulSoup(r.text, \"html.parser\")\n",
    "# Storing Details\n",
    "update = s.find(\"div\", class_=\"BNeawe\").text\n",
    "# Printing Details\n",
    "print(\"Temperature in \" + city + \" is: \" + update)\n"
   ]
  },
  {
   "cell_type": "code",
   "execution_count": 9,
   "metadata": {},
   "outputs": [
    {
     "name": "stdout",
     "output_type": "stream",
     "text": [
      "Delhi, Delhi ; Current Weather. 5:49 PM. 55°F · RealFeel® 53° ; TODAY'S WEATHER FORECAST. 1/11. 62°Hi. RealFeel® 65° ; TONIGHT'S WEATHER FORECAST. 1/11. 40°Lo.Daily · Current Weather · Hourly · Delhi, Delhi\n"
     ]
    }
   ],
   "source": [
    "print(s.find(\"div\",class_=\"BNeawe s3v9rd AP7Wnd\").text)"
   ]
  },
  {
   "cell_type": "code",
   "execution_count": 28,
   "metadata": {},
   "outputs": [
    {
     "data": {
      "text/plain": [
       "['Ram_06at1982', 'gmail', 'com']"
      ]
     },
     "execution_count": 28,
     "metadata": {},
     "output_type": "execute_result"
    }
   ],
   "source": [
    "import re\n",
    "\n",
    "a = \"Ram_06at1982@gmail.com\"\n",
    "re.findall(\"[\\w]+\",a)"
   ]
  },
  {
   "cell_type": "code",
   "execution_count": 29,
   "metadata": {},
   "outputs": [
    {
     "name": "stdout",
     "output_type": "stream",
     "text": [
      "12\n"
     ]
    }
   ],
   "source": [
    "n1 = [\"Amit\",\"ben\",\"charlie\",\"Damon\"]\n",
    "n2=n1\n",
    "n3=n1[:]\n",
    "n2[0]=\"ste\"\n",
    "n3[1]=\"jo\"\n",
    "sum = 0\n",
    "for i in (n1,n2,n3):\n",
    "    if i[0] == \"ste\":\n",
    "        sum+=1\n",
    "    if i[1] == \"jo\":\n",
    "        sum+=10\n",
    "print(sum)        \n"
   ]
  },
  {
   "cell_type": "code",
   "execution_count": 15,
   "metadata": {},
   "outputs": [],
   "source": [
    "def fun(a,b):\n",
    "    return None"
   ]
  },
  {
   "cell_type": "code",
   "execution_count": 41,
   "metadata": {},
   "outputs": [
    {
     "data": {
      "text/plain": [
       "'Ram Sham'"
      ]
     },
     "execution_count": 41,
     "metadata": {},
     "output_type": "execute_result"
    }
   ],
   "source": [
    "re.sub(' m',\" \",\"Ram Sham\")"
   ]
  },
  {
   "cell_type": "code",
   "execution_count": 46,
   "metadata": {},
   "outputs": [
    {
     "data": {
      "text/plain": [
       "['',\n",
       " 't',\n",
       " 'h',\n",
       " 'e',\n",
       " ' ',\n",
       " 'e',\n",
       " 'v',\n",
       " 'e',\n",
       " 'n',\n",
       " 't',\n",
       " ' ',\n",
       " 's',\n",
       " 't',\n",
       " 'a',\n",
       " 'r',\n",
       " 'r',\n",
       " 't',\n",
       " 's',\n",
       " ' ',\n",
       " 'i',\n",
       " 'n',\n",
       " ' ',\n",
       " 'J',\n",
       " 'a',\n",
       " 'n',\n",
       " '']"
      ]
     },
     "execution_count": 46,
     "metadata": {},
     "output_type": "execute_result"
    }
   ],
   "source": [
    "re.split('',\"the event starrts in Jan\")"
   ]
  },
  {
   "cell_type": "code",
   "execution_count": 48,
   "metadata": {},
   "outputs": [
    {
     "name": "stdout",
     "output_type": "stream",
     "text": [
      "4\n",
      "3\n",
      "2\n",
      "1\n",
      "0\n"
     ]
    }
   ],
   "source": [
    "n=5\n",
    "while(--n):\n",
    "    n-=1\n",
    "    print(n)"
   ]
  },
  {
   "cell_type": "code",
   "execution_count": 51,
   "metadata": {},
   "outputs": [
    {
     "name": "stdout",
     "output_type": "stream",
     "text": [
      "n\n",
      "y\n"
     ]
    }
   ],
   "source": [
    "lis=[1,3,5,7]\n",
    "\n",
    "for a in (lis[::2]):\n",
    "    s =\"Infosys\"\n",
    "    print(s[a])\n",
    "    "
   ]
  },
  {
   "cell_type": "code",
   "execution_count": 56,
   "metadata": {},
   "outputs": [
    {
     "data": {
      "text/plain": [
       "'*thon knowledge in automa*ng unit tes*ng using *unit'"
      ]
     },
     "execution_count": 56,
     "metadata": {},
     "output_type": "execute_result"
    }
   ],
   "source": [
    "re.sub(\"Py|ti\",\"*\",\"Python knowledge in automating unit testing using Pyunit\")"
   ]
  },
  {
   "cell_type": "code",
   "execution_count": 59,
   "metadata": {},
   "outputs": [],
   "source": [
    "def empde(empno,name=\"emp\",project=\"pr2\",level=\"21\"):\n",
    "    return None"
   ]
  },
  {
   "cell_type": "code",
   "execution_count": 67,
   "metadata": {},
   "outputs": [
    {
     "data": {
      "text/plain": [
       "['The event starts in Jan']"
      ]
     },
     "execution_count": 67,
     "metadata": {},
     "output_type": "execute_result"
    }
   ],
   "source": [
    "import re\n",
    "\n",
    "s = \"The event starts in Jan\"\n",
    "a=re.split('\"\"',s)\n",
    "a\n"
   ]
  },
  {
   "cell_type": "code",
   "execution_count": null,
   "metadata": {},
   "outputs": [],
   "source": []
  }
 ],
 "metadata": {
  "kernelspec": {
   "display_name": "Python 3",
   "language": "python",
   "name": "python3"
  },
  "language_info": {
   "codemirror_mode": {
    "name": "ipython",
    "version": 3
   },
   "file_extension": ".py",
   "mimetype": "text/x-python",
   "name": "python",
   "nbconvert_exporter": "python",
   "pygments_lexer": "ipython3",
   "version": "3.8.5"
  }
 },
 "nbformat": 4,
 "nbformat_minor": 4
}
