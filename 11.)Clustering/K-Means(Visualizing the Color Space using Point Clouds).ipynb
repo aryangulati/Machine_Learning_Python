{
 "cells": [
  {
   "cell_type": "markdown",
   "metadata": {},
   "source": [
    "<h2 align=\"center\">Image Compression with K-means Clustering ( with Interactive Controls)</h2> "
   ]
  },
  {
   "cell_type": "markdown",
   "metadata": {},
   "source": [
    " "
   ]
  },
  {
   "cell_type": "code",
   "execution_count": 1,
   "metadata": {},
   "outputs": [],
   "source": [
    "#Importing Libraries\n",
    "from __future__ import print_function\n",
    "%matplotlib inline\n",
    "import os\n",
    "import numpy as np\n",
    "import matplotlib.pyplot as plt\n",
    "import matplotlib.image as image\n",
    "plt.style.use(\"ggplot\")\n",
    "\n",
    "from skimage import io\n",
    "from sklearn.cluster import KMeans\n",
    "\n",
    "from ipywidgets import interact, interactive, fixed, interact_manual, IntSlider\n",
    "import ipywidgets as widgets"
   ]
  },
  {
   "cell_type": "code",
   "execution_count": 22,
   "metadata": {},
   "outputs": [],
   "source": [
    "plt.rcParams['figure.figsize'] = (20, 12)"
   ]
  },
  {
   "cell_type": "markdown",
   "metadata": {},
   "source": [
    " "
   ]
  },
  {
   "cell_type": "code",
   "execution_count": 23,
   "metadata": {},
   "outputs": [],
   "source": [
    "# #Data Preprocessing\n",
    "# img = io.imread('images/5-bob.jpg')\n",
    "# ax = plt.axes(xticks=[], yticks=[])#to ensure that our axis dont have Xticks,yticks (numbers)\n",
    "# ax.imshow(img); #we dont want refernce to this matplotlib object also printed so we use \";\""
   ]
  },
  {
   "cell_type": "code",
   "execution_count": 24,
   "metadata": {},
   "outputs": [],
   "source": [
    "# img.shape"
   ]
  },
  {
   "cell_type": "code",
   "execution_count": 25,
   "metadata": {},
   "outputs": [],
   "source": [
    "# img"
   ]
  },
  {
   "cell_type": "code",
   "execution_count": 26,
   "metadata": {},
   "outputs": [],
   "source": [
    "# #normalising our pixel values\n",
    "# img_data = (img / 255.0).reshape(-1, 3) # .reshape(183*275, 3)\n",
    "# img_data.shape"
   ]
  },
  {
   "cell_type": "markdown",
   "metadata": {},
   "source": [
    " "
   ]
  },
  {
   "cell_type": "markdown",
   "metadata": {},
   "source": [
    "<!-- ### Visualizing the Color Space using Point Clouds\n",
    "--- -->"
   ]
  },
  {
   "cell_type": "code",
   "execution_count": 27,
   "metadata": {},
   "outputs": [],
   "source": [
    "from plot_utils import plot_utils"
   ]
  },
  {
   "cell_type": "code",
   "execution_count": 28,
   "metadata": {},
   "outputs": [],
   "source": [
    "# x = plot_utils(img_data, title='Input color space: 16 million possible colors')\n",
    "# x.colorSpace()\n",
    "# #so their is sharp transition from one color space to other so we have to make it segmented transition \n",
    "# #it has very smooth gradient"
   ]
  },
  {
   "cell_type": "markdown",
   "metadata": {},
   "source": [
    "\n"
   ]
  },
  {
   "cell_type": "markdown",
   "metadata": {},
   "source": [
    " "
   ]
  },
  {
   "cell_type": "code",
   "execution_count": 29,
   "metadata": {},
   "outputs": [],
   "source": [
    "from sklearn.cluster import MiniBatchKMeans\n",
    "#high resolution images ==MiniBatchKMeans==>small batches "
   ]
  },
  {
   "cell_type": "code",
   "execution_count": 30,
   "metadata": {},
   "outputs": [],
   "source": [
    "# kmeans = MiniBatchKMeans(16).fit(img_data)\n",
    "# k_colors = kmeans.cluster_centers_[kmeans.predict(img_data)] #here we are predicting 16 colors on the img \n",
    "\n",
    "# y = plot_utils(img_data, colors=k_colors, title=\"Reduced color space: 16 colors\")\n",
    "# y.colorSpace()"
   ]
  },
  {
   "cell_type": "markdown",
   "metadata": {},
   "source": [
    "<!-- ### K-means Image Compression with Interactive Controls\n",
    "--- -->"
   ]
  },
  {
   "cell_type": "code",
   "execution_count": 31,
   "metadata": {},
   "outputs": [],
   "source": [
    "img_dir = 'images/'\n",
    "#adding dropdown menu and a slider using Ipythonwidgets\n",
    "#https://ipywidgets.readthedocs.io/en/latest/examples/Using%20Interact.html"
   ]
  },
  {
   "cell_type": "code",
   "execution_count": 33,
   "metadata": {
    "scrolled": false
   },
   "outputs": [
    {
     "data": {
      "application/vnd.jupyter.widget-view+json": {
       "model_id": "b7824f609c7f458db2030867077a38e9",
       "version_major": 2,
       "version_minor": 0
      },
      "text/plain": [
       "interactive(children=(Dropdown(description='image', options=('1-Saint-Basils-Cathedral.jpg', '10-Sunset.jpg', …"
      ]
     },
     "metadata": {},
     "output_type": "display_data"
    }
   ],
   "source": [
    "@interact #decorater \n",
    "def color_compression(image=os.listdir(img_dir), k=IntSlider(min=1,max=256,step=1,value=16,\n",
    "                                                             continuous_update=False,\n",
    "                                                             layout=dict(width='100%'))):\n",
    "    \n",
    "    #continuous_update will be false so only update when we realease the slider\n",
    "    #width here is sliderlayout \n",
    "    input_img = io.imread(img_dir + image)\n",
    "    img_data = (input_img / 255.0).reshape(-1, 3)\n",
    "    \n",
    "    kmeans = MiniBatchKMeans(k).fit(img_data)\n",
    "    k_colors = kmeans.cluster_centers_[kmeans.predict(img_data)]\n",
    "    #After K-means has converged, load the large image into your program and \n",
    "    #replace each of its pixels with the nearest of the centroid colors you found\n",
    "    #from the small image. \n",
    "    k_img = np.reshape(k_colors, (input_img.shape))\n",
    "    \n",
    "    fig, (ax1, ax2) = plt.subplots(1, 2)#this show 1 row but 2 col means one row has 2 images\n",
    "    fig.suptitle('K-means Clustering (Dominant colors Extraction)', fontsize=50)\n",
    "    \n",
    "    ax1.set_title('Compressed')\n",
    "    ax1.set_xticks([])\n",
    "    ax1.set_yticks([])\n",
    "    ax1.imshow(k_img)\n",
    "    \n",
    "    ax2.set_title('Original')\n",
    "    ax2.set_xticks([])\n",
    "    ax2.set_yticks([])\n",
    "    ax2.imshow(input_img)\n",
    "    \n",
    "    plt.subplots_adjust(top=0.8)\n",
    "    plt.show()"
   ]
  },
  {
   "cell_type": "code",
   "execution_count": null,
   "metadata": {},
   "outputs": [],
   "source": []
  }
 ],
 "metadata": {
  "kernelspec": {
   "display_name": "Python 3",
   "language": "python",
   "name": "python3"
  },
  "language_info": {
   "codemirror_mode": {
    "name": "ipython",
    "version": 3
   },
   "file_extension": ".py",
   "mimetype": "text/x-python",
   "name": "python",
   "nbconvert_exporter": "python",
   "pygments_lexer": "ipython3",
   "version": "3.8.5"
  }
 },
 "nbformat": 4,
 "nbformat_minor": 2
}
