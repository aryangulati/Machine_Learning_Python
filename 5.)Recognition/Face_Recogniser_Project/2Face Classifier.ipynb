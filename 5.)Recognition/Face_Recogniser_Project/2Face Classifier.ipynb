{
 "cells": [
  {
   "cell_type": "code",
   "execution_count": 7,
   "metadata": {},
   "outputs": [],
   "source": [
    "# Recognise Faces using some classification algorithm - like Logistic, KNN, SVM etc.\n",
    "\n",
    "\n",
    "# 1. load the training data (numpy arrays of all the persons)\n",
    "        # x- values are stored in the numpy arrays\n",
    "        # y-values we need to assign for each person\n",
    "# 2. Read a video stream using opencv\n",
    "# 3. extract faces out of it\n",
    "# 4. use knn to find the prediction of face (int)\n",
    "# 5. map the predicted id to name of the user \n",
    "# 6. Display the predictions on the screen - bounding box and name"
   ]
  },
  {
   "cell_type": "code",
   "execution_count": 8,
   "metadata": {},
   "outputs": [],
   "source": [
    "import cv2\n",
    "import numpy as np\n",
    "import os"
   ]
  },
  {
   "cell_type": "code",
   "execution_count": 9,
   "metadata": {},
   "outputs": [],
   "source": [
    "########## KNN CODE ############\n",
    "def distance(v1, v2):\n",
    "    # Eucledian \n",
    "    return np.sqrt(((v1-v2)**2).sum())\n",
    "\n",
    "def knn(train, test, k=5):\n",
    "    dist = []\n",
    "    \n",
    "    for i in range(train.shape[0]):\n",
    "        # Get the vector and label\n",
    "        ix = train[i, :-1]\n",
    "        iy = train[i, -1]\n",
    "        # Compute the distance from test point\n",
    "        d = distance(test, ix)\n",
    "        dist.append([d, iy])\n",
    "    # Sort based on distance and get top k\n",
    "    dk = sorted(dist, key=lambda x: x[0])[:k]\n",
    "    # Retrieve only the labels\n",
    "    labels = np.array(dk)[:, -1]\n",
    "\n",
    "    # Get frequencies of each label\n",
    "    output = np.unique(labels, return_counts=True)\n",
    "    # Find max frequency and corresponding label\n",
    "    index = np.argmax(output[1])\n",
    "    return output[0][index]\n",
    "################################"
   ]
  },
  {
   "cell_type": "code",
   "execution_count": 10,
   "metadata": {},
   "outputs": [],
   "source": [
    "#Init Camera\n",
    "cap = cv2.VideoCapture(0)\n",
    "\n",
    "# Face Detection\n",
    "face_cascade = cv2.CascadeClassifier(\"haarcascade_frontalface_alt.xml\")\n",
    "\n",
    "skip = 0\n",
    "dataset_path = './data/'\n",
    "\n",
    "face_data = [] #X values\n",
    "labels = [] #y values\n",
    "\n",
    "class_id = 0 # Labels for the given file\n",
    "names = {} #Mapping btw id - name\n"
   ]
  },
  {
   "cell_type": "code",
   "execution_count": 11,
   "metadata": {},
   "outputs": [
    {
     "name": "stdout",
     "output_type": "stream",
     "text": [
      "Loaded aryan.npy\n",
      "Loaded aryan2.npy\n",
      "Loaded robert.npy\n",
      "(609, 30000)\n",
      "(609, 1)\n",
      "(609, 30001)\n"
     ]
    }
   ],
   "source": [
    "# Data Preparation\n",
    "for fx in os.listdir(dataset_path):\n",
    "    if fx.endswith('.npy'):\n",
    "        #Create a mapping btw class_id and name\n",
    "        names[class_id] = fx[:-4]\n",
    "        print(\"Loaded \"+fx)\n",
    "        data_item = np.load(dataset_path+fx)\n",
    "        face_data.append(data_item)\n",
    "\n",
    "        #Create Labels for the class\n",
    "        target = class_id*np.ones((data_item.shape[0],))\n",
    "        class_id += 1\n",
    "        labels.append(target)\n",
    "\n",
    "face_dataset = np.concatenate(face_data,axis=0)\n",
    "face_labels = np.concatenate(labels,axis=0).reshape((-1,1))\n",
    "\n",
    "print(face_dataset.shape)\n",
    "print(face_labels.shape)\n",
    "\n",
    "trainset = np.concatenate((face_dataset,face_labels),axis=1)\n",
    "print(trainset.shape)\n"
   ]
  },
  {
   "cell_type": "code",
   "execution_count": 12,
   "metadata": {},
   "outputs": [],
   "source": [
    "# cv2.putText()\n",
    "# putText(img, text, org, fontFace, fontScale, color[, thickness[, lineType[, bottomLeftOrigin]]]) -> img\n",
    "# .   @brief Draws a text string.\n",
    "# .   \n",
    "# .   The function cv::putText renders the specified text string in the image. Symbols that cannot be rendered\n",
    "# .   using the specified font are replaced by question marks. See #getTextSize for a text rendering code\n",
    "# .   example.\n",
    "# .   \n",
    "# .   @param img Image.\n",
    "# .   @param text Text string to be drawn.\n",
    "# .   @param org Bottom-left corner of the text string in the image.\n",
    "# .   @param fontFace Font type, see #HersheyFonts.\n",
    "# .   @param fontScale Font scale factor that is multiplied by the font-specific base size.\n",
    "# .   @param color Text color.\n",
    "# .   @param thickness Thickness of the lines used to draw a text.\n",
    "# .   @param lineType Line type. See #LineTypes\n",
    "# .   @param bottomLeftOrigin When true, the image data origin is at the bottom-left corner. Otherwise,\n",
    "# .   it is at the top-left corner."
   ]
  },
  {
   "cell_type": "code",
   "execution_count": 13,
   "metadata": {},
   "outputs": [],
   "source": [
    "# Testing \n",
    "\n",
    "while True:\n",
    "    ret,frame = cap.read()\n",
    "    if ret == False:\n",
    "        continue\n",
    "\n",
    "    faces = face_cascade.detectMultiScale(frame,1.3,5)\n",
    "    if(len(faces)==0):\n",
    "        continue\n",
    "\n",
    "    for face in faces:\n",
    "        x,y,w,h = face\n",
    "\n",
    "        #Get the face ROI\n",
    "        offset = 10\n",
    "        face_section = frame[y-offset:y+h+offset,x-offset:x+w+offset]\n",
    "        face_section = cv2.resize(face_section,(100,100))\n",
    "\n",
    "        #Predicted Label (out)\n",
    "        out = knn(trainset,face_section.flatten())\n",
    "\n",
    "        #Display on the screen the name and rectangle around it\n",
    "        pred_name = names[int(out)]\n",
    "        cv2.putText(frame,pred_name,(x,y-10),cv2.FONT_HERSHEY_SIMPLEX,1,(255,0,0),2,cv2.LINE_AA)\n",
    "        cv2.rectangle(frame,(x,y),(x+w,y+h),(0,255,255),2)\n",
    "\n",
    "    cv2.imshow(\"Faces\",frame)\n",
    "\n",
    "    key = cv2.waitKey(1) & 0xFF\n",
    "    if key==ord('q'):\n",
    "        break\n",
    "\n",
    "cap.release()\n",
    "cv2.destroyAllWindows()"
   ]
  },
  {
   "cell_type": "code",
   "execution_count": null,
   "metadata": {},
   "outputs": [],
   "source": []
  }
 ],
 "metadata": {
  "kernelspec": {
   "display_name": "Python 3",
   "language": "python",
   "name": "python3"
  },
  "language_info": {
   "codemirror_mode": {
    "name": "ipython",
    "version": 3
   },
   "file_extension": ".py",
   "mimetype": "text/x-python",
   "name": "python",
   "nbconvert_exporter": "python",
   "pygments_lexer": "ipython3",
   "version": "3.8.5"
  }
 },
 "nbformat": 4,
 "nbformat_minor": 4
}
