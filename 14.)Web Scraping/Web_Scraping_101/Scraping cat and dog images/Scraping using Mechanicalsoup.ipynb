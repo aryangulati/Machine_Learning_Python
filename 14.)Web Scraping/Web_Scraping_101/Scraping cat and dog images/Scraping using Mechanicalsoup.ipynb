{
 "cells": [
  {
   "cell_type": "markdown",
   "metadata": {},
   "source": [
    "# MechanicalSoup"
   ]
  },
  {
   "cell_type": "code",
   "execution_count": 50,
   "metadata": {},
   "outputs": [
    {
     "name": "stdout",
     "output_type": "stream",
     "text": [
      "https://www.google.com/imghp?hl=en\n"
     ]
    }
   ],
   "source": [
    "import  mechanicalsoup\n",
    "browser =  mechanicalsoup.StatefulBrowser() #creating browser object\n",
    "url =\"https://www.google.com/imghp?hl=en\"\n",
    "browser.open(url)\n",
    "print(browser.get_url())"
   ]
  },
  {
   "cell_type": "code",
   "execution_count": 51,
   "metadata": {},
   "outputs": [
    {
     "name": "stdout",
     "output_type": "stream",
     "text": [
      "<input name=\"tbm\" type=\"hidden\" value=\"isch\"/>\n",
      "<input name=\"ie\" type=\"hidden\" value=\"ISO-8859-1\"/>\n",
      "<input name=\"hl\" type=\"hidden\" value=\"en-IN\"/>\n",
      "<input name=\"source\" type=\"hidden\" value=\"hp\"/>\n",
      "<input name=\"biw\" type=\"hidden\"/>\n",
      "<input name=\"bih\" type=\"hidden\"/>\n",
      "<input autocomplete=\"off\" class=\"lst\" maxlength=\"2048\" name=\"q\" size=\"57\" style=\"margin:0;padding:5px 8px 0 6px;vertical-align:top;color:#000\" title=\"Search Images\" value=\"\"/>\n",
      "<input class=\"lsb\" name=\"btnG\" type=\"submit\" value=\"Search Images\"/>\n",
      "<input id=\"gbv\" name=\"gbv\" type=\"hidden\" value=\"1\"/>\n"
     ]
    }
   ],
   "source": [
    "#get HTML ==> search feed that we want to search different images \n",
    "browser.get_current_page()\n",
    "\n",
    "browser.select_form()\n",
    "browser.get_current_form().print_summary()"
   ]
  },
  {
   "cell_type": "code",
   "execution_count": 52,
   "metadata": {},
   "outputs": [
    {
     "name": "stdout",
     "output_type": "stream",
     "text": [
      "new url : https://www.google.com/search?tbm=isch&ie=ISO-8859-1&hl=en-IN&source=hp&biw=&bih=&q=cat&btnG=Search+Images&gbv=1\n",
      "my response: \n",
      " <!DOCTYPE html PUBLIC \"-//WAPFORUM//DTD XHTML Mobile 1.0//EN\" \"http://www.wapforum.org/DTD/xhtml-mobile10.dtd\"><html xmlns=\"http://www.w3.org/1999/xhtml\" lang=\"en-IN\"><head><meta content=\"application/xhtml+xml; charset=UTF-8\" http-equiv=\"Content-Type\"/><meta content=\"no-cache\" name=\"Cache-Control\"/><title>cat - Google Search</title><style>a{text-decoration:none;color:inherit}a:hover{text-decoration:underline}a img{border:0}body{font-family:Roboto,Helvetica,Arial,sans-serif;padding:8px;margin:0 a\n"
     ]
    }
   ],
   "source": [
    "#searching in images\n",
    "search_term = \"cat\"\n",
    "\n",
    "browser[\"q\"] = search_term\n",
    "\n",
    "#now we have to push search command to search bar\n",
    "#sumbit \"click\" search\n",
    "browser.launch_browser()\n",
    "response = browser.submit_selected()#this will redirect you to new page so we\n",
    "print(\"new url :\",browser.get_url())\n",
    "print(\"my response: \\n\",response.text[:500])"
   ]
  },
  {
   "cell_type": "code",
   "execution_count": 53,
   "metadata": {},
   "outputs": [
    {
     "data": {
      "text/plain": [
       "['/images/branding/searchlogo/1x/googlelogo_desk_heirloom_color_150x55dp.gif',\n",
       " 'https://encrypted-tbn0.gstatic.com/images?q=tbn:ANd9GcSKuf2f2woppTThJsDDtmaHauOyqfRvqK467Sr1AQtbzEuNg7NFmnOGignVvz8&s',\n",
       " 'https://encrypted-tbn0.gstatic.com/images?q=tbn:ANd9GcSLB8lwPF4UIM4Ck4ZdvI3qwYCX9InrEGdmqbcaQOac4CdOr4QZMDHWWFKjwNA&s',\n",
       " 'https://encrypted-tbn0.gstatic.com/images?q=tbn:ANd9GcQA27OQhF5UJ_STOL6HljZ0WRxGtRks-n6E_Mq9emazF-onpOve6bN-hUfftg&s',\n",
       " 'https://encrypted-tbn0.gstatic.com/images?q=tbn:ANd9GcRwnqk6SmoKlLvJGkNDVtZkjOu4PHcdvWzHHdbhtfko_jbZ8OVrInn7dLA39g&s',\n",
       " 'https://encrypted-tbn0.gstatic.com/images?q=tbn:ANd9GcSpL8GjQsI8BG1F3DZUi-CMMb6I03qE_6SjXhjEDpoXyT1pYxoXbWMl4JI_tw&s',\n",
       " 'https://encrypted-tbn0.gstatic.com/images?q=tbn:ANd9GcTnRDIe0XaHJ9z6aN1VVt00ZGdyphJp0_Eya-DaB3LIQjidpMvYIu0lhoyt4g&s',\n",
       " 'https://encrypted-tbn0.gstatic.com/images?q=tbn:ANd9GcQw_qxWaix4YtF-lt38iJpiutFR_l-s2JMngYWr-Jwp_-lyx3D5D5-RbYK9aZY&s',\n",
       " 'https://encrypted-tbn0.gstatic.com/images?q=tbn:ANd9GcStUAeUyQawR-eUYyLI4HlC3TKxy2DiOjv8432bFaX_rfcoKqyBEqXG1RQ-uG8&s',\n",
       " 'https://encrypted-tbn0.gstatic.com/images?q=tbn:ANd9GcR1M6cnFrSeLZ4Mhu6G7M4_1hxuM1Svg-QJ2dnBYv5kM1Kg5GDzx91AZccX-Q&s',\n",
       " 'https://encrypted-tbn0.gstatic.com/images?q=tbn:ANd9GcQHb-8Wh0mG3NBzdg0tLlP5W0GIFPyNxAi4sInEQT1raKsZKcL41zX_8tpzYQ&s',\n",
       " 'https://encrypted-tbn0.gstatic.com/images?q=tbn:ANd9GcTD_4QCNWeZc3R53Lchyc_Ea7t1juQ7gfc5xr2EPjl9CdxnHwwGnEIRtkKu8g&s',\n",
       " 'https://encrypted-tbn0.gstatic.com/images?q=tbn:ANd9GcSD6_1bXZ0Yz4QbbYIc5Jdq0xM0MHYccJTRWpKlE0k51kKKzv5nWiT5f3ydGA&s',\n",
       " 'https://encrypted-tbn0.gstatic.com/images?q=tbn:ANd9GcQopVeNdBAg9BK8krrTPyzaX-rXadzf5_eC1v0vYVQopsR_eAT-0Hi8RqQRhLw&s',\n",
       " 'https://encrypted-tbn0.gstatic.com/images?q=tbn:ANd9GcQRt7KfUh3szkIhPZ3eCFVbSVBjQIY3Pwc_NPnz32RRbFBsuAqv1mRr1s7amw&s',\n",
       " 'https://encrypted-tbn0.gstatic.com/images?q=tbn:ANd9GcRbHRc7LBxBQP7rX7eYBDJbUgXW-CDCT9T09MEq-9g4JhOmI0E61kd_2LkinA&s',\n",
       " 'https://encrypted-tbn0.gstatic.com/images?q=tbn:ANd9GcQII7WcYCRBKoL0d1gtzBE44sRCiJwx7eQo5u3lZUQkLvxx_kv0Pf0xjXdFNA&s',\n",
       " 'https://encrypted-tbn0.gstatic.com/images?q=tbn:ANd9GcSxTD7YBUg44-WhTf0uIfKiooFL8B7UxfVnqmcpWasnBJQHJXvEwR9D0sri-Mk&s',\n",
       " 'https://encrypted-tbn0.gstatic.com/images?q=tbn:ANd9GcTzQFl61_R8yPOykNz_s8SHw11U6xtosXxzs3fqN58GuqXJgSj5GuJaE1OOzA&s',\n",
       " 'https://encrypted-tbn0.gstatic.com/images?q=tbn:ANd9GcTV3-zBg2kpIl_oDZMC0gNdGplc5zMRQEI418ZJ26dnzSEQ4hRTyEDE71pJCA&s',\n",
       " 'https://encrypted-tbn0.gstatic.com/images?q=tbn:ANd9GcRUu0cqRqJYBpzlAUfCGOALtZEnZVY67Lk9_EsTEMZ-FwuQIjfDGi_FyRQY3k0&s']"
      ]
     },
     "execution_count": 53,
     "metadata": {},
     "output_type": "execute_result"
    }
   ],
   "source": [
    "# store new url and get info from it \n",
    "new_url = browser.get_url()\n",
    "browser.open(new_url)\n",
    "\n",
    "#get HTML ==> search feed that we want to search different images \n",
    "page = browser.get_current_page()\n",
    "all_img = page.find_all(\"img\")\n",
    "\n",
    "all_img\n",
    "\n",
    "#but we only need img url \n",
    "#so we can create a empty list and append url in it\n",
    "\n",
    "img_source = []\n",
    "\n",
    "for img in all_img:\n",
    "    img = img.get('src')\n",
    "    img_source.append(img)\n",
    "    \n",
    "img_source"
   ]
  },
  {
   "cell_type": "code",
   "execution_count": 54,
   "metadata": {},
   "outputs": [
    {
     "data": {
      "text/plain": [
       "['https://encrypted-tbn0.gstatic.com/images?q=tbn:ANd9GcSKuf2f2woppTThJsDDtmaHauOyqfRvqK467Sr1AQtbzEuNg7NFmnOGignVvz8&s',\n",
       " 'https://encrypted-tbn0.gstatic.com/images?q=tbn:ANd9GcSLB8lwPF4UIM4Ck4ZdvI3qwYCX9InrEGdmqbcaQOac4CdOr4QZMDHWWFKjwNA&s',\n",
       " 'https://encrypted-tbn0.gstatic.com/images?q=tbn:ANd9GcQA27OQhF5UJ_STOL6HljZ0WRxGtRks-n6E_Mq9emazF-onpOve6bN-hUfftg&s',\n",
       " 'https://encrypted-tbn0.gstatic.com/images?q=tbn:ANd9GcRwnqk6SmoKlLvJGkNDVtZkjOu4PHcdvWzHHdbhtfko_jbZ8OVrInn7dLA39g&s',\n",
       " 'https://encrypted-tbn0.gstatic.com/images?q=tbn:ANd9GcSpL8GjQsI8BG1F3DZUi-CMMb6I03qE_6SjXhjEDpoXyT1pYxoXbWMl4JI_tw&s',\n",
       " 'https://encrypted-tbn0.gstatic.com/images?q=tbn:ANd9GcTnRDIe0XaHJ9z6aN1VVt00ZGdyphJp0_Eya-DaB3LIQjidpMvYIu0lhoyt4g&s',\n",
       " 'https://encrypted-tbn0.gstatic.com/images?q=tbn:ANd9GcQw_qxWaix4YtF-lt38iJpiutFR_l-s2JMngYWr-Jwp_-lyx3D5D5-RbYK9aZY&s',\n",
       " 'https://encrypted-tbn0.gstatic.com/images?q=tbn:ANd9GcStUAeUyQawR-eUYyLI4HlC3TKxy2DiOjv8432bFaX_rfcoKqyBEqXG1RQ-uG8&s',\n",
       " 'https://encrypted-tbn0.gstatic.com/images?q=tbn:ANd9GcR1M6cnFrSeLZ4Mhu6G7M4_1hxuM1Svg-QJ2dnBYv5kM1Kg5GDzx91AZccX-Q&s',\n",
       " 'https://encrypted-tbn0.gstatic.com/images?q=tbn:ANd9GcQHb-8Wh0mG3NBzdg0tLlP5W0GIFPyNxAi4sInEQT1raKsZKcL41zX_8tpzYQ&s',\n",
       " 'https://encrypted-tbn0.gstatic.com/images?q=tbn:ANd9GcTD_4QCNWeZc3R53Lchyc_Ea7t1juQ7gfc5xr2EPjl9CdxnHwwGnEIRtkKu8g&s',\n",
       " 'https://encrypted-tbn0.gstatic.com/images?q=tbn:ANd9GcSD6_1bXZ0Yz4QbbYIc5Jdq0xM0MHYccJTRWpKlE0k51kKKzv5nWiT5f3ydGA&s',\n",
       " 'https://encrypted-tbn0.gstatic.com/images?q=tbn:ANd9GcQopVeNdBAg9BK8krrTPyzaX-rXadzf5_eC1v0vYVQopsR_eAT-0Hi8RqQRhLw&s',\n",
       " 'https://encrypted-tbn0.gstatic.com/images?q=tbn:ANd9GcQRt7KfUh3szkIhPZ3eCFVbSVBjQIY3Pwc_NPnz32RRbFBsuAqv1mRr1s7amw&s',\n",
       " 'https://encrypted-tbn0.gstatic.com/images?q=tbn:ANd9GcRbHRc7LBxBQP7rX7eYBDJbUgXW-CDCT9T09MEq-9g4JhOmI0E61kd_2LkinA&s',\n",
       " 'https://encrypted-tbn0.gstatic.com/images?q=tbn:ANd9GcQII7WcYCRBKoL0d1gtzBE44sRCiJwx7eQo5u3lZUQkLvxx_kv0Pf0xjXdFNA&s',\n",
       " 'https://encrypted-tbn0.gstatic.com/images?q=tbn:ANd9GcSxTD7YBUg44-WhTf0uIfKiooFL8B7UxfVnqmcpWasnBJQHJXvEwR9D0sri-Mk&s',\n",
       " 'https://encrypted-tbn0.gstatic.com/images?q=tbn:ANd9GcTzQFl61_R8yPOykNz_s8SHw11U6xtosXxzs3fqN58GuqXJgSj5GuJaE1OOzA&s',\n",
       " 'https://encrypted-tbn0.gstatic.com/images?q=tbn:ANd9GcTV3-zBg2kpIl_oDZMC0gNdGplc5zMRQEI418ZJ26dnzSEQ4hRTyEDE71pJCA&s',\n",
       " 'https://encrypted-tbn0.gstatic.com/images?q=tbn:ANd9GcRUu0cqRqJYBpzlAUfCGOALtZEnZVY67Lk9_EsTEMZ-FwuQIjfDGi_FyRQY3k0&s']"
      ]
     },
     "execution_count": 54,
     "metadata": {},
     "output_type": "execute_result"
    }
   ],
   "source": [
    "#still litbit of cleaning required in links \n",
    "img_source = [img for img in img_source if img.startswith(\"https\")]\n",
    "img_source"
   ]
  },
  {
   "cell_type": "code",
   "execution_count": 59,
   "metadata": {},
   "outputs": [],
   "source": [
    "#now we have to save all the images in our directory\n",
    "import os\n",
    "import wget\n",
    "\n",
    "path =os.getcwd() #get your current directory\n",
    "path = os.path.join(path,search_term +\"s\")\n",
    "\n",
    "path"
   ]
  },
  {
   "cell_type": "code",
   "execution_count": 58,
   "metadata": {},
   "outputs": [],
   "source": [
    "counter =0\n",
    "for img in img_source:\n",
    "    save_as = os.path.join(path,search_term +str(counter)+\".jpg\")\n",
    "    wget.download(img,save_as)\n",
    "    counter+=1"
   ]
  },
  {
   "cell_type": "code",
   "execution_count": 48,
   "metadata": {},
   "outputs": [],
   "source": [
    "from selenium import webdriver\n",
    "from selenium.webdriver.common.keys import Keys\n",
    "import time"
   ]
  },
  {
   "cell_type": "code",
   "execution_count": 60,
   "metadata": {},
   "outputs": [],
   "source": [
    "# # browser.execute_script(\"window.scrollTo(0, document.body.scrollHeight);\")\n",
    "# # driver = webdriver.Firefox()\n",
    "# # driver.get(\"https://twitter.com/BarackObama\")\n",
    "# browser = webdriver.Chrome()\n",
    "# while True:\n",
    "#     browser.execute_script(\"window.scrollTo(0, document.body.scrollHeight);\")\n",
    "#     time.sleep(3)"
   ]
  },
  {
   "cell_type": "code",
   "execution_count": 61,
   "metadata": {},
   "outputs": [],
   "source": [
    "# browser.execute_script(\"window.scrollTo(0, document.body.scrollHeight);\")"
   ]
  },
  {
   "cell_type": "code",
   "execution_count": 57,
   "metadata": {},
   "outputs": [
    {
     "name": "stdout",
     "output_type": "stream",
     "text": [
      "3.8.5\n"
     ]
    }
   ],
   "source": [
    "from platform import python_version\n",
    "\n",
    "print(python_version())"
   ]
  },
  {
   "cell_type": "code",
   "execution_count": 1,
   "metadata": {},
   "outputs": [],
   "source": [
    "# To include more images, you can scroll down with:\n",
    "# browser.execute_script(\"window.scrollTo(0, document.body.scrollHeight);\")\n",
    "\n",
    "# If you'd like to scroll down multiple times, try looping over a range:\n"
   ]
  },
  {
   "cell_type": "code",
   "execution_count": null,
   "metadata": {},
   "outputs": [],
   "source": []
  }
 ],
 "metadata": {
  "kernelspec": {
   "display_name": "Python 3",
   "language": "python",
   "name": "python3"
  },
  "language_info": {
   "codemirror_mode": {
    "name": "ipython",
    "version": 3
   },
   "file_extension": ".py",
   "mimetype": "text/x-python",
   "name": "python",
   "nbconvert_exporter": "python",
   "pygments_lexer": "ipython3",
   "version": "3.8.5"
  }
 },
 "nbformat": 4,
 "nbformat_minor": 4
}
