{
 "cells": [
  {
   "cell_type": "code",
   "execution_count": 1,
   "metadata": {},
   "outputs": [],
   "source": [
    "import requests\n",
    "from bs4 import BeautifulSoup\n",
    "import urllib.request"
   ]
  },
  {
   "cell_type": "code",
   "execution_count": 2,
   "metadata": {},
   "outputs": [],
   "source": [
    "url =\"https://www.google.com/search?q=cat&tbm=isch&hl=en-US&chips=q:cat,g_1:kitten:9vy3U2mCN5I%3D&sa=X&ved=2ahUKEwjZmuyc0pHyAhUDUysKHcQBBV4Q4lYoAHoECAEQDw&biw=750&bih=727\""
   ]
  },
  {
   "cell_type": "code",
   "execution_count": 3,
   "metadata": {},
   "outputs": [],
   "source": [
    "response = requests.get(url) \n",
    "#Response object contains server response\n",
    "# it contains Web Content, URL Header, Status, Many more Attributes"
   ]
  },
  {
   "cell_type": "code",
   "execution_count": 4,
   "metadata": {},
   "outputs": [
    {
     "data": {
      "text/plain": [
       "b'<!DOCTYPE html PUBLIC \"-//WAPFORUM//DTD XHTML Mobile 1.0//EN\" \"http://www.wapforum.org/DTD/xhtml-mobile10.dtd\"><html xmlns=\"http://www.w3.org/1999/xhtml\" lang=\"en-IN\"><head><meta content=\"application/xhtml+xml; charset=UTF-8\" http-equiv=\"Content-Type\"/><meta content=\"no-cache\" name=\"Cache-Control\"/><title>cat - Google Search</title><style>a{text-decoration:none;color:inherit}a:hover{text-decoration:underline}a img{border:0}body{font-family:Roboto,Helvetica,Arial,sans-serif;padding:8px;margin:0 auto;max-width:700px;min-width:240px;}.FbhRzb{border-left:thin solid #dadce0;border-right:thin solid #dadce0;border-top:thin solid #dadce0;height:40px;overflow:hidden}.n692Zd{margin-bottom:10px}.cvifge{height:40px;border-spacing:0}.QvGUP{height:40px;padding:0 8px 0 8px;vertical-align:top}.O4cRJf{height:40px;width:100%;padding:0;padding-right:16px}.O1ePr{height:40px;padding:0;vertical-align:top}.kgJ'"
      ]
     },
     "execution_count": 4,
     "metadata": {},
     "output_type": "execute_result"
    }
   ],
   "source": [
    "response.content[:900]"
   ]
  },
  {
   "cell_type": "code",
   "execution_count": 5,
   "metadata": {},
   "outputs": [],
   "source": [
    "#instantiaitng webscraper\n",
    "soup = BeautifulSoup(response.content, \"html.parser\")"
   ]
  },
  {
   "cell_type": "code",
   "execution_count": 6,
   "metadata": {},
   "outputs": [],
   "source": [
    "# formattted version of HTML \n",
    "# print(soup.prettify())\n"
   ]
  },
  {
   "cell_type": "code",
   "execution_count": 7,
   "metadata": {},
   "outputs": [],
   "source": [
    "images=soup.findAll(\"img\",attrs ={\"class\":\"yWs4tf\"})"
   ]
  },
  {
   "cell_type": "code",
   "execution_count": 8,
   "metadata": {},
   "outputs": [],
   "source": [
    "# images = soup.findAll(\"img\", attrs={\"alt\":\"Post image\"})"
   ]
  },
  {
   "cell_type": "code",
   "execution_count": 9,
   "metadata": {},
   "outputs": [
    {
     "data": {
      "text/plain": [
       "[<img alt=\"\" class=\"yWs4tf\" src=\"https://encrypted-tbn0.gstatic.com/images?q=tbn:ANd9GcQ3Y_KybJBJRZNp1YERLy8szRdKOCIIGB_Jyueb44wvKaIy8zgzhca3e3ko3wQ&amp;s\"/>,\n",
       " <img alt=\"\" class=\"yWs4tf\" src=\"https://encrypted-tbn0.gstatic.com/images?q=tbn:ANd9GcSiKlqs9YNynkqgX5DOD1ULoXyLNxSSj20lg1WBr_GcpnObsfyzFGol0Hj2bA&amp;s\"/>,\n",
       " <img alt=\"\" class=\"yWs4tf\" src=\"https://encrypted-tbn0.gstatic.com/images?q=tbn:ANd9GcRGDvIjqAsgCyoXPysqjQbSDLCHK6SEF67S4iEX31DLpTBfMrWSFWrw6gVNH7o&amp;s\"/>,\n",
       " <img alt=\"\" class=\"yWs4tf\" src=\"https://encrypted-tbn0.gstatic.com/images?q=tbn:ANd9GcRDpNrWXx7RuZh4qNO51toqKnkuq9xpEHGHjoz8MIL6IYqH4ZAuBcrl3uSh8ts&amp;s\"/>,\n",
       " <img alt=\"\" class=\"yWs4tf\" src=\"https://encrypted-tbn0.gstatic.com/images?q=tbn:ANd9GcRos-FfvYvExY4uHcHQrkJd5HGkwVRa8GYQwYU8T4MhmIVnKDjMz6qqndMZ5Q&amp;s\"/>,\n",
       " <img alt=\"\" class=\"yWs4tf\" src=\"https://encrypted-tbn0.gstatic.com/images?q=tbn:ANd9GcR2gyVb7UXKNLlDN8dcMfnALYnQQFoY0Iiccmoee3TbO-nUMO-PBkC3v2RiOg&amp;s\"/>,\n",
       " <img alt=\"\" class=\"yWs4tf\" src=\"https://encrypted-tbn0.gstatic.com/images?q=tbn:ANd9GcRNx62t8nXNedmjjCElIBGzApXjzyjJiBYgfwpKcgXI033hvl4dtzjh71xnyfU&amp;s\"/>,\n",
       " <img alt=\"\" class=\"yWs4tf\" src=\"https://encrypted-tbn0.gstatic.com/images?q=tbn:ANd9GcSqlpTk8pcfqCajnoq5FimE8c9uguKAE8J2Aa1r2qFXGO6H9PJ5wHgj9E5xzOY&amp;s\"/>,\n",
       " <img alt=\"\" class=\"yWs4tf\" src=\"https://encrypted-tbn0.gstatic.com/images?q=tbn:ANd9GcSh2LmEqjxNS-fSKHfFd8wI1_8E6ps3oxa5xxyR1b4cq9yuA3UGXAKYakO2xA&amp;s\"/>,\n",
       " <img alt=\"\" class=\"yWs4tf\" src=\"https://encrypted-tbn0.gstatic.com/images?q=tbn:ANd9GcTUPBkFArVlGYMOo1zTCwSgoCSrKjDbxSV9wJuv7JDFWEN9vg7pOTEzhCobWg&amp;s\"/>,\n",
       " <img alt=\"\" class=\"yWs4tf\" src=\"https://encrypted-tbn0.gstatic.com/images?q=tbn:ANd9GcRBCTkp6_CNHHnJKLjg7y9WvSsVZkkWiUQZxXckgqmpVezDuDdvW8xdxYE36A&amp;s\"/>,\n",
       " <img alt=\"\" class=\"yWs4tf\" src=\"https://encrypted-tbn0.gstatic.com/images?q=tbn:ANd9GcSeQsWOKlPN8DRiX4yqGra1HhI24BywqPkKdVuuVbdO-I6ZZhhuuHrStSP9di4&amp;s\"/>,\n",
       " <img alt=\"\" class=\"yWs4tf\" src=\"https://encrypted-tbn0.gstatic.com/images?q=tbn:ANd9GcSqfyQ5p2OcFmcOKkjx25qMTQo1Kud8gpClOm7-CgxbHfwcTq8zBgS6AHlLBho&amp;s\"/>,\n",
       " <img alt=\"\" class=\"yWs4tf\" src=\"https://encrypted-tbn0.gstatic.com/images?q=tbn:ANd9GcT1knSz0IqjuaOaxHJBYd1pCvNbSMtTzib9exrlcTv2hQJ6nm846RfbOZwGHg&amp;s\"/>,\n",
       " <img alt=\"\" class=\"yWs4tf\" src=\"https://encrypted-tbn0.gstatic.com/images?q=tbn:ANd9GcR9TDDHtO3GfghF79Xrzm5Hq-6Rqulnn4vLkYFFIKKRQOWD2xjILH8IJKemLg&amp;s\"/>,\n",
       " <img alt=\"\" class=\"yWs4tf\" src=\"https://encrypted-tbn0.gstatic.com/images?q=tbn:ANd9GcS3WvbA2K-mJrhURBPeg-_M8y0en-tjDdpUsiI0Xu6Xldh_nhng9gaSaDCDed8&amp;s\"/>,\n",
       " <img alt=\"\" class=\"yWs4tf\" src=\"https://encrypted-tbn0.gstatic.com/images?q=tbn:ANd9GcToHNj0Dv6XiX6jyrhMKhUzrRwdoYzdPbqy_bne3WPOLsiYDaJY4lDHQMnKoAo&amp;s\"/>,\n",
       " <img alt=\"\" class=\"yWs4tf\" src=\"https://encrypted-tbn0.gstatic.com/images?q=tbn:ANd9GcQ9SWlsP_8NE7V5N87gFBD-5Z962cM_A69JFLrEkHFcL59IkCUL1WwTCZFhqg8&amp;s\"/>,\n",
       " <img alt=\"\" class=\"yWs4tf\" src=\"https://encrypted-tbn0.gstatic.com/images?q=tbn:ANd9GcS3S0oOdQw75RSTtz_CBqslrrfMLbibU29DLLWv3e5y1DQHQmvyIuFyDYd61w&amp;s\"/>,\n",
       " <img alt=\"\" class=\"yWs4tf\" src=\"https://encrypted-tbn0.gstatic.com/images?q=tbn:ANd9GcR_tLtYj0hw3AjQPmygm-MVFWLIOHhUxenEsOmzx87LGszNSb4PKPGUJSbb4Q&amp;s\"/>]"
      ]
     },
     "execution_count": 9,
     "metadata": {},
     "output_type": "execute_result"
    }
   ],
   "source": [
    "images"
   ]
  },
  {
   "cell_type": "code",
   "execution_count": 11,
   "metadata": {},
   "outputs": [
    {
     "name": "stdout",
     "output_type": "stream",
     "text": [
      "https://encrypted-tbn0.gstatic.com/images?q=tbn:ANd9GcQ3Y_KybJBJRZNp1YERLy8szRdKOCIIGB_Jyueb44wvKaIy8zgzhca3e3ko3wQ&s\n",
      "https://encrypted-tbn0.gstatic.com/images?q=tbn:ANd9GcSiKlqs9YNynkqgX5DOD1ULoXyLNxSSj20lg1WBr_GcpnObsfyzFGol0Hj2bA&s\n",
      "https://encrypted-tbn0.gstatic.com/images?q=tbn:ANd9GcRGDvIjqAsgCyoXPysqjQbSDLCHK6SEF67S4iEX31DLpTBfMrWSFWrw6gVNH7o&s\n",
      "https://encrypted-tbn0.gstatic.com/images?q=tbn:ANd9GcRDpNrWXx7RuZh4qNO51toqKnkuq9xpEHGHjoz8MIL6IYqH4ZAuBcrl3uSh8ts&s\n",
      "https://encrypted-tbn0.gstatic.com/images?q=tbn:ANd9GcRos-FfvYvExY4uHcHQrkJd5HGkwVRa8GYQwYU8T4MhmIVnKDjMz6qqndMZ5Q&s\n",
      "https://encrypted-tbn0.gstatic.com/images?q=tbn:ANd9GcR2gyVb7UXKNLlDN8dcMfnALYnQQFoY0Iiccmoee3TbO-nUMO-PBkC3v2RiOg&s\n",
      "https://encrypted-tbn0.gstatic.com/images?q=tbn:ANd9GcRNx62t8nXNedmjjCElIBGzApXjzyjJiBYgfwpKcgXI033hvl4dtzjh71xnyfU&s\n",
      "https://encrypted-tbn0.gstatic.com/images?q=tbn:ANd9GcSqlpTk8pcfqCajnoq5FimE8c9uguKAE8J2Aa1r2qFXGO6H9PJ5wHgj9E5xzOY&s\n",
      "https://encrypted-tbn0.gstatic.com/images?q=tbn:ANd9GcSh2LmEqjxNS-fSKHfFd8wI1_8E6ps3oxa5xxyR1b4cq9yuA3UGXAKYakO2xA&s\n",
      "https://encrypted-tbn0.gstatic.com/images?q=tbn:ANd9GcTUPBkFArVlGYMOo1zTCwSgoCSrKjDbxSV9wJuv7JDFWEN9vg7pOTEzhCobWg&s\n",
      "https://encrypted-tbn0.gstatic.com/images?q=tbn:ANd9GcRBCTkp6_CNHHnJKLjg7y9WvSsVZkkWiUQZxXckgqmpVezDuDdvW8xdxYE36A&s\n",
      "https://encrypted-tbn0.gstatic.com/images?q=tbn:ANd9GcSeQsWOKlPN8DRiX4yqGra1HhI24BywqPkKdVuuVbdO-I6ZZhhuuHrStSP9di4&s\n",
      "https://encrypted-tbn0.gstatic.com/images?q=tbn:ANd9GcSqfyQ5p2OcFmcOKkjx25qMTQo1Kud8gpClOm7-CgxbHfwcTq8zBgS6AHlLBho&s\n",
      "https://encrypted-tbn0.gstatic.com/images?q=tbn:ANd9GcT1knSz0IqjuaOaxHJBYd1pCvNbSMtTzib9exrlcTv2hQJ6nm846RfbOZwGHg&s\n",
      "https://encrypted-tbn0.gstatic.com/images?q=tbn:ANd9GcR9TDDHtO3GfghF79Xrzm5Hq-6Rqulnn4vLkYFFIKKRQOWD2xjILH8IJKemLg&s\n",
      "https://encrypted-tbn0.gstatic.com/images?q=tbn:ANd9GcS3WvbA2K-mJrhURBPeg-_M8y0en-tjDdpUsiI0Xu6Xldh_nhng9gaSaDCDed8&s\n",
      "https://encrypted-tbn0.gstatic.com/images?q=tbn:ANd9GcToHNj0Dv6XiX6jyrhMKhUzrRwdoYzdPbqy_bne3WPOLsiYDaJY4lDHQMnKoAo&s\n",
      "https://encrypted-tbn0.gstatic.com/images?q=tbn:ANd9GcQ9SWlsP_8NE7V5N87gFBD-5Z962cM_A69JFLrEkHFcL59IkCUL1WwTCZFhqg8&s\n",
      "https://encrypted-tbn0.gstatic.com/images?q=tbn:ANd9GcS3S0oOdQw75RSTtz_CBqslrrfMLbibU29DLLWv3e5y1DQHQmvyIuFyDYd61w&s\n",
      "https://encrypted-tbn0.gstatic.com/images?q=tbn:ANd9GcR_tLtYj0hw3AjQPmygm-MVFWLIOHhUxenEsOmzx87LGszNSb4PKPGUJSbb4Q&s\n"
     ]
    }
   ],
   "source": [
    "imgcount = 0\n",
    "\n",
    "for image in images:\n",
    "    image_src =image[\"src\"]\n",
    "    print(image_src)\n",
    "    name =\"C:/Users/ARYAN GULATI/Desktop/Python_Code/14.)Web Scraping\\Web_Scraping_101/Scraping cat and dog images/cat/\"+str(imgcount)+\".jpg\"\n",
    "    urllib.request.urlretrieve(image_src,name)\n",
    "    imgcount+=1"
   ]
  },
  {
   "cell_type": "code",
   "execution_count": 25,
   "metadata": {},
   "outputs": [],
   "source": [
    "url = \"https://www.freeimages.com/search/kitten-cat\"\n",
    "headers = {'User-Agent':'Mozilla/5.0 (Windows NT 10.0; Win64; x64) AppleWebKit/537.36 (KHTML, like Gecko) Chrome/58.0.3029.110 Safari/537.3'}"
   ]
  },
  {
   "cell_type": "code",
   "execution_count": 26,
   "metadata": {},
   "outputs": [],
   "source": [
    "response = requests.get(url,headers = headers)\n"
   ]
  },
  {
   "cell_type": "code",
   "execution_count": 27,
   "metadata": {},
   "outputs": [],
   "source": [
    "soup =BeautifulSoup(response.content,\"html.parser\")"
   ]
  },
  {
   "cell_type": "code",
   "execution_count": 28,
   "metadata": {},
   "outputs": [],
   "source": [
    "# print(soup.prettify())"
   ]
  },
  {
   "cell_type": "code",
   "execution_count": 29,
   "metadata": {},
   "outputs": [],
   "source": [
    "images=soup.findAll(\"img\",attrs ={\"class\":\"nocoda\"})"
   ]
  },
  {
   "cell_type": "code",
   "execution_count": 30,
   "metadata": {},
   "outputs": [
    {
     "data": {
      "text/plain": [
       "[<img alt=\"Cat and dog sleeping. Puppy and kitten sleep.\" class=\"nocoda\" src=\"https://media.istockphoto.com/photos/cat-and-dog-sleeping-puppy-and-kitten-sleep-picture-id1168451046?b=1&amp;k=6&amp;m=1168451046&amp;s=170x170&amp;h=yU4G1LCkk-xu262841Svlid5HaBtEN8yIsy4CEfwDgw=\"/>,\n",
       " <img alt=\"maine coon kitten on scratching post\" class=\"nocoda\" src=\"https://media.istockphoto.com/photos/maine-coon-kitten-on-scratching-post-picture-id1085283872?b=1&amp;k=6&amp;m=1085283872&amp;s=170x170&amp;h=yfMWrV6xveTxAEYjfm0aOIq5Vch3p2Fr8PfCJ5bFBao=\"/>,\n",
       " <img alt=\"Cute, red kitten is sleeping on his back and smiling, paws up. Concept of sleep and good morning.\" class=\"nocoda\" src=\"https://media.istockphoto.com/photos/cute-red-kitten-is-sleeping-on-his-back-and-smiling-paws-up-concept-picture-id1144982182?b=1&amp;k=6&amp;m=1144982182&amp;s=170x170&amp;h=HGgMj9pMlVJKGURa_m4ekha95FfzTRgn4gr4rYgZF9o=\"/>,\n",
       " <img alt=\"Kitten sleeping in man hands. Cats sleep.\" class=\"nocoda\" src=\"https://media.istockphoto.com/photos/kitten-sleeping-in-man-hands-cats-sleep-picture-id1168285684?b=1&amp;k=6&amp;m=1168285684&amp;s=170x170&amp;h=yNCMKLOW15IWf1UUm-4ja994WDgt9ftqeWFvthQD00M=\"/>,\n",
       " <img alt=\"Mother cat nursing baby kittens\" class=\"nocoda\" src=\"https://media.istockphoto.com/photos/mother-cat-nursing-baby-kittens-picture-id1070428270?b=1&amp;k=6&amp;m=1070428270&amp;s=170x170&amp;h=D4lWs90jMj0M8HTxHggIfp1DIq4Y2Qq7GuUWTKg0_IA=\"/>,\n",
       " <img alt=\"Cute bengal funny cat playing\" class=\"nocoda\" src=\"https://media.istockphoto.com/photos/cute-bengal-funny-cat-playing-picture-id1071204136?b=1&amp;k=6&amp;m=1071204136&amp;s=170x170&amp;h=jWvJNiGoPcsvVzE_jiNUQmZ0Je8f4bE9CbTJk7Gogns=\"/>,\n",
       " <img alt=\"cute puppy and kitten on the grass outdoor;\" class=\"nocoda\" src=\"https://media.istockphoto.com/photos/cute-puppy-and-kitten-on-the-grass-outdoor-picture-id619961796?b=1&amp;k=6&amp;m=619961796&amp;s=170x170&amp;h=HSZvQJ3lpyduONzvZavmQSzq6v8Tk6VXN2FAlKxuE7E=\"/>,\n",
       " <img alt=\"Portrait of cute little kitten outdoors in flowers\" class=\"nocoda\" src=\"https://media.istockphoto.com/photos/portrait-of-cute-little-kitten-outdoors-in-flowers-picture-id485575238?b=1&amp;k=6&amp;m=485575238&amp;s=170x170&amp;h=acbgno2J9PPwN1tj1daiEcOu5LVkru3mVSQIqkD7dCI=\"/>,\n",
       " <img alt=\"Funny kitten\" class=\"nocoda\" src=\"https://media.istockphoto.com/photos/funny-kitten-picture-id91626487?b=1&amp;k=6&amp;m=91626487&amp;s=170x170&amp;h=Cx1wmLOpg_g_yxVOZRmpbw0Afdnh7cEe9tQYllPVYfU=\"/>,\n",
       " <img alt=\"Kitten plays with toy mouse\" class=\"nocoda\" src=\"https://media.istockphoto.com/photos/kitten-plays-with-toy-mouse-picture-id157512060?b=1&amp;k=6&amp;m=157512060&amp;s=170x170&amp;h=l5m1t8EbmteyQYTHMz1bJaNyly4q9o3snd9c9AjiU-Y=\"/>,\n",
       " <img alt=\"Person holding little cats in arms.\" class=\"nocoda\" src=\"https://media.istockphoto.com/photos/person-holding-little-cats-in-arms-picture-id183384678?b=1&amp;k=6&amp;m=183384678&amp;s=170x170&amp;h=206gaK8tQU-ye4ondolBDJ9nUYLiGAxdJkr1L4P2nVA=\"/>,\n",
       " <img alt=\"Golden British kitten hugs with love his girlfriend cat\" class=\"nocoda\" src=\"https://media.istockphoto.com/photos/golden-british-kitten-hugs-with-love-his-girlfriend-cat-picture-id1097957242?b=1&amp;k=6&amp;m=1097957242&amp;s=170x170&amp;h=OrdF3jPXcXs9wvceRc7qEvKOg_Ak-useJv1FTviTlew=\"/>,\n",
       " <img alt=\"British short hair cat and golden retriever\" class=\"nocoda\" src=\"https://media.istockphoto.com/photos/british-short-hair-cat-and-golden-retriever-picture-id992637094?b=1&amp;k=6&amp;m=992637094&amp;s=170x170&amp;h=ajyeJB3PFHCexW5xYpHsG49JBIk48InqHGz_LvZr8t8=\"/>,\n",
       " <img alt=\"Little black kitten playing and enjoys with orange ball at living room of house.\" class=\"nocoda\" src=\"https://media.istockphoto.com/photos/little-black-kitten-playing-and-enjoys-with-orange-ball-at-living-of-picture-id1186954832?b=1&amp;k=6&amp;m=1186954832&amp;s=170x170&amp;h=9HEdnI1VDz9twDf4Y4KK_ap4SyRXFaIUCt3pnwJYcOE=\"/>,\n",
       " <img alt=\"Portrait of a funny cat looking out of the box\" class=\"nocoda\" src=\"https://media.istockphoto.com/photos/portrait-of-a-funny-cat-looking-out-of-the-box-picture-id1097010202?b=1&amp;k=6&amp;m=1097010202&amp;s=170x170&amp;h=ESTA_0KbyAC_beB0Nmc2XM58NBRyeuThqBiTWHEV--Y=\"/>,\n",
       " <img alt=\"Vet with dog and cat. Puppy and kitten at doctor.\" class=\"nocoda\" src=\"https://media.istockphoto.com/photos/vet-with-dog-and-cat-puppy-and-kitten-at-doctor-picture-id1171733307?b=1&amp;k=6&amp;m=1171733307&amp;s=170x170&amp;h=o82Y-TAsnLWKhUqr_Kkxpuoo0io9lkoUy9g4N4YrX-0=\"/>,\n",
       " <img alt=\"Small tabby mixed breed kitten under gray and red wool plaid. Pets care and adoption concept. Close up, selective focus.\" class=\"nocoda\" src=\"https://media.istockphoto.com/photos/small-tabby-mixed-breed-kitten-under-gray-and-red-wool-plaid-pets-picture-id1160261821?b=1&amp;k=6&amp;m=1160261821&amp;s=170x170&amp;h=ueFXIQOLRKEZQNSu7Eg_CON5g42NkJEiBpRN8IVTb64=\"/>,\n",
       " <img alt=\"Cute tabby kittens sleeping and hugging\" class=\"nocoda\" src=\"https://media.istockphoto.com/photos/cute-tabby-kittens-sleeping-and-hugging-picture-id480615728?b=1&amp;k=6&amp;m=480615728&amp;s=170x170&amp;h=PwX1h4OAol4q9GEXUW1LJ85zv3WoVriN0leZzhqjiKo=\"/>,\n",
       " <img alt=\"Kitten bengal cat pet looking at a mixed race man\" class=\"nocoda\" src=\"https://media.istockphoto.com/photos/kitten-bengal-cat-pet-looking-at-a-mixed-race-man-picture-id1193176664?b=1&amp;k=6&amp;m=1193176664&amp;s=170x170&amp;h=rmbcoA7l0GsF1boCBqls9skxu80FMF6jZC2hAfTI1gY=\"/>,\n",
       " <img alt=\"Cute puppy kissing kitten\" class=\"nocoda\" src=\"https://media.istockphoto.com/photos/cute-puppy-kissing-kitten-picture-id526356029?b=1&amp;k=6&amp;m=526356029&amp;s=170x170&amp;h=sf6QCSj31a_YYXRLddz6V_LnNdGfCxKTgwQCJ4in1Ss=\"/>,\n",
       " <img alt=\"Puppy and Kitten\" class=\"nocoda\" src=\"https://media.istockphoto.com/photos/puppy-and-kitten-picture-id183334500?b=1&amp;k=6&amp;m=183334500&amp;s=170x170&amp;h=1k0PYVboa-1kajsNBlTpZZsi_Ktx9cwTtdviSZ6RQr0=\"/>,\n",
       " <img alt=\"Adorable Scottish Straight cat, peeking from behind a banner\" class=\"nocoda\" src=\"https://media.istockphoto.com/photos/adorable-scottish-straight-cat-peeking-from-behind-a-banner-picture-id1097008888?b=1&amp;k=6&amp;m=1097008888&amp;s=170x170&amp;h=VzuHKCTxIgljiTC5_FARIIT7tbbOVne5hGFgMS0v06w=\"/>,\n",
       " <img alt=\"Sunny cat\" class=\"nocoda\" src=\"https://media.istockphoto.com/photos/sunny-cat-picture-id508030340?b=1&amp;k=6&amp;m=508030340&amp;s=170x170&amp;h=ghFom0IMicezrXpeBEaa4ac70XvRKIxnRPfUQrv8K8Q=\"/>,\n",
       " <img alt=\"Portrait of Siberian kitten\" class=\"nocoda\" src=\"https://media.istockphoto.com/photos/portrait-of-siberian-kitten-picture-id637000686?b=1&amp;k=6&amp;m=637000686&amp;s=170x170&amp;h=s2EAwKfRDZgwxyptOT5MVnYDmKg-W7W7wKCgBMS_fuE=\"/>,\n",
       " <img alt=\"Kitten bengal cat pet looking at a mixed race man\" class=\"nocoda\" src=\"https://media.istockphoto.com/photos/kitten-bengal-cat-pet-looking-at-a-mixed-race-man-picture-id1193176664?b=1&amp;k=6&amp;m=1193176664&amp;s=170x170&amp;h=rmbcoA7l0GsF1boCBqls9skxu80FMF6jZC2hAfTI1gY=\"/>,\n",
       " <img alt=\"Cute puppy kissing kitten\" class=\"nocoda\" src=\"https://media.istockphoto.com/photos/cute-puppy-kissing-kitten-picture-id526356029?b=1&amp;k=6&amp;m=526356029&amp;s=170x170&amp;h=sf6QCSj31a_YYXRLddz6V_LnNdGfCxKTgwQCJ4in1Ss=\"/>,\n",
       " <img alt=\"Puppy and Kitten\" class=\"nocoda\" src=\"https://media.istockphoto.com/photos/puppy-and-kitten-picture-id183334500?b=1&amp;k=6&amp;m=183334500&amp;s=170x170&amp;h=1k0PYVboa-1kajsNBlTpZZsi_Ktx9cwTtdviSZ6RQr0=\"/>,\n",
       " <img alt=\"Adorable Scottish Straight cat, peeking from behind a banner\" class=\"nocoda\" src=\"https://media.istockphoto.com/photos/adorable-scottish-straight-cat-peeking-from-behind-a-banner-picture-id1097008888?b=1&amp;k=6&amp;m=1097008888&amp;s=170x170&amp;h=VzuHKCTxIgljiTC5_FARIIT7tbbOVne5hGFgMS0v06w=\"/>,\n",
       " <img alt=\"Sunny cat\" class=\"nocoda\" src=\"https://media.istockphoto.com/photos/sunny-cat-picture-id508030340?b=1&amp;k=6&amp;m=508030340&amp;s=170x170&amp;h=ghFom0IMicezrXpeBEaa4ac70XvRKIxnRPfUQrv8K8Q=\"/>,\n",
       " <img alt=\"Portrait of Siberian kitten\" class=\"nocoda\" src=\"https://media.istockphoto.com/photos/portrait-of-siberian-kitten-picture-id637000686?b=1&amp;k=6&amp;m=637000686&amp;s=170x170&amp;h=s2EAwKfRDZgwxyptOT5MVnYDmKg-W7W7wKCgBMS_fuE=\"/>,\n",
       " <img alt=\"Cute British short Hairy cat\" class=\"nocoda\" src=\"https://media.istockphoto.com/photos/cute-british-short-hairy-cat-picture-id1055045568?b=1&amp;k=6&amp;m=1055045568&amp;s=170x170&amp;h=A-yOgms3wwlEraABsd29eR2FCVpxnFwjZ-X2n-UFFtU=\"/>,\n",
       " <img alt=\"Big Meow\" class=\"nocoda\" src=\"https://media.istockphoto.com/photos/big-meow-picture-id826557526?b=1&amp;k=6&amp;m=826557526&amp;s=170x170&amp;h=Xgmsb7V7gbMwq6KNQdyxXLyQqKMHda8Eo3lfRSEaRgQ=\"/>,\n",
       " <img alt=\"Fluffy gray kitten of a Russian blue cat (isolated on white)\" class=\"nocoda\" src=\"https://media.istockphoto.com/photos/fluffy-gray-kitten-of-a-russian-blue-cat-picture-id858701710?b=1&amp;k=6&amp;m=858701710&amp;s=170x170&amp;h=AMaqRZs5L0ts1D920sdHK7TPIG2rxmWZQWV7fg-YJWE=\"/>,\n",
       " <img alt=\"Kitten with his paw up\" class=\"nocoda\" src=\"https://media.istockphoto.com/photos/kitten-with-his-paw-up-picture-id149052633?b=1&amp;k=6&amp;m=149052633&amp;s=170x170&amp;h=Xl7IoNiEKNj_UcQxsJhcXSKZKeavz83Ud4BkIyzW2ak=\"/>,\n",
       " <img alt=\"Cat with blue eyes looks at camera\" class=\"nocoda\" src=\"https://media.istockphoto.com/photos/cat-with-blue-eyes-looks-at-camera-picture-id1067347086?b=1&amp;k=6&amp;m=1067347086&amp;s=170x170&amp;h=0cydn9cDiPfhaAdfI_-NO-KFsfKXQJSf09XGSFPJRmA=\"/>,\n",
       " <img alt=\"Young cat plays with dandelion in Back light\" class=\"nocoda\" src=\"https://media.istockphoto.com/photos/young-cat-plays-with-dandelion-in-back-light-picture-id477799262?b=1&amp;k=6&amp;m=477799262&amp;s=170x170&amp;h=8Y9DJ9jaASFaCl_-vIlEj8bdZs15b4iPpHpU7wn22Rs=\"/>]"
      ]
     },
     "execution_count": 30,
     "metadata": {},
     "output_type": "execute_result"
    }
   ],
   "source": [
    "images"
   ]
  },
  {
   "cell_type": "code",
   "execution_count": 32,
   "metadata": {},
   "outputs": [
    {
     "name": "stdout",
     "output_type": "stream",
     "text": [
      "https://media.istockphoto.com/photos/cat-and-dog-sleeping-puppy-and-kitten-sleep-picture-id1168451046?b=1&k=6&m=1168451046&s=170x170&h=yU4G1LCkk-xu262841Svlid5HaBtEN8yIsy4CEfwDgw=\n",
      "https://media.istockphoto.com/photos/maine-coon-kitten-on-scratching-post-picture-id1085283872?b=1&k=6&m=1085283872&s=170x170&h=yfMWrV6xveTxAEYjfm0aOIq5Vch3p2Fr8PfCJ5bFBao=\n",
      "https://media.istockphoto.com/photos/cute-red-kitten-is-sleeping-on-his-back-and-smiling-paws-up-concept-picture-id1144982182?b=1&k=6&m=1144982182&s=170x170&h=HGgMj9pMlVJKGURa_m4ekha95FfzTRgn4gr4rYgZF9o=\n",
      "https://media.istockphoto.com/photos/kitten-sleeping-in-man-hands-cats-sleep-picture-id1168285684?b=1&k=6&m=1168285684&s=170x170&h=yNCMKLOW15IWf1UUm-4ja994WDgt9ftqeWFvthQD00M=\n",
      "https://media.istockphoto.com/photos/mother-cat-nursing-baby-kittens-picture-id1070428270?b=1&k=6&m=1070428270&s=170x170&h=D4lWs90jMj0M8HTxHggIfp1DIq4Y2Qq7GuUWTKg0_IA=\n",
      "https://media.istockphoto.com/photos/cute-bengal-funny-cat-playing-picture-id1071204136?b=1&k=6&m=1071204136&s=170x170&h=jWvJNiGoPcsvVzE_jiNUQmZ0Je8f4bE9CbTJk7Gogns=\n",
      "https://media.istockphoto.com/photos/cute-puppy-and-kitten-on-the-grass-outdoor-picture-id619961796?b=1&k=6&m=619961796&s=170x170&h=HSZvQJ3lpyduONzvZavmQSzq6v8Tk6VXN2FAlKxuE7E=\n",
      "https://media.istockphoto.com/photos/portrait-of-cute-little-kitten-outdoors-in-flowers-picture-id485575238?b=1&k=6&m=485575238&s=170x170&h=acbgno2J9PPwN1tj1daiEcOu5LVkru3mVSQIqkD7dCI=\n",
      "https://media.istockphoto.com/photos/funny-kitten-picture-id91626487?b=1&k=6&m=91626487&s=170x170&h=Cx1wmLOpg_g_yxVOZRmpbw0Afdnh7cEe9tQYllPVYfU=\n",
      "https://media.istockphoto.com/photos/kitten-plays-with-toy-mouse-picture-id157512060?b=1&k=6&m=157512060&s=170x170&h=l5m1t8EbmteyQYTHMz1bJaNyly4q9o3snd9c9AjiU-Y=\n",
      "https://media.istockphoto.com/photos/person-holding-little-cats-in-arms-picture-id183384678?b=1&k=6&m=183384678&s=170x170&h=206gaK8tQU-ye4ondolBDJ9nUYLiGAxdJkr1L4P2nVA=\n",
      "https://media.istockphoto.com/photos/golden-british-kitten-hugs-with-love-his-girlfriend-cat-picture-id1097957242?b=1&k=6&m=1097957242&s=170x170&h=OrdF3jPXcXs9wvceRc7qEvKOg_Ak-useJv1FTviTlew=\n",
      "https://media.istockphoto.com/photos/british-short-hair-cat-and-golden-retriever-picture-id992637094?b=1&k=6&m=992637094&s=170x170&h=ajyeJB3PFHCexW5xYpHsG49JBIk48InqHGz_LvZr8t8=\n",
      "https://media.istockphoto.com/photos/little-black-kitten-playing-and-enjoys-with-orange-ball-at-living-of-picture-id1186954832?b=1&k=6&m=1186954832&s=170x170&h=9HEdnI1VDz9twDf4Y4KK_ap4SyRXFaIUCt3pnwJYcOE=\n",
      "https://media.istockphoto.com/photos/portrait-of-a-funny-cat-looking-out-of-the-box-picture-id1097010202?b=1&k=6&m=1097010202&s=170x170&h=ESTA_0KbyAC_beB0Nmc2XM58NBRyeuThqBiTWHEV--Y=\n",
      "https://media.istockphoto.com/photos/vet-with-dog-and-cat-puppy-and-kitten-at-doctor-picture-id1171733307?b=1&k=6&m=1171733307&s=170x170&h=o82Y-TAsnLWKhUqr_Kkxpuoo0io9lkoUy9g4N4YrX-0=\n",
      "https://media.istockphoto.com/photos/small-tabby-mixed-breed-kitten-under-gray-and-red-wool-plaid-pets-picture-id1160261821?b=1&k=6&m=1160261821&s=170x170&h=ueFXIQOLRKEZQNSu7Eg_CON5g42NkJEiBpRN8IVTb64=\n",
      "https://media.istockphoto.com/photos/cute-tabby-kittens-sleeping-and-hugging-picture-id480615728?b=1&k=6&m=480615728&s=170x170&h=PwX1h4OAol4q9GEXUW1LJ85zv3WoVriN0leZzhqjiKo=\n",
      "https://media.istockphoto.com/photos/kitten-bengal-cat-pet-looking-at-a-mixed-race-man-picture-id1193176664?b=1&k=6&m=1193176664&s=170x170&h=rmbcoA7l0GsF1boCBqls9skxu80FMF6jZC2hAfTI1gY=\n",
      "https://media.istockphoto.com/photos/cute-puppy-kissing-kitten-picture-id526356029?b=1&k=6&m=526356029&s=170x170&h=sf6QCSj31a_YYXRLddz6V_LnNdGfCxKTgwQCJ4in1Ss=\n",
      "https://media.istockphoto.com/photos/puppy-and-kitten-picture-id183334500?b=1&k=6&m=183334500&s=170x170&h=1k0PYVboa-1kajsNBlTpZZsi_Ktx9cwTtdviSZ6RQr0=\n",
      "https://media.istockphoto.com/photos/adorable-scottish-straight-cat-peeking-from-behind-a-banner-picture-id1097008888?b=1&k=6&m=1097008888&s=170x170&h=VzuHKCTxIgljiTC5_FARIIT7tbbOVne5hGFgMS0v06w=\n",
      "https://media.istockphoto.com/photos/sunny-cat-picture-id508030340?b=1&k=6&m=508030340&s=170x170&h=ghFom0IMicezrXpeBEaa4ac70XvRKIxnRPfUQrv8K8Q=\n",
      "https://media.istockphoto.com/photos/portrait-of-siberian-kitten-picture-id637000686?b=1&k=6&m=637000686&s=170x170&h=s2EAwKfRDZgwxyptOT5MVnYDmKg-W7W7wKCgBMS_fuE=\n",
      "https://media.istockphoto.com/photos/kitten-bengal-cat-pet-looking-at-a-mixed-race-man-picture-id1193176664?b=1&k=6&m=1193176664&s=170x170&h=rmbcoA7l0GsF1boCBqls9skxu80FMF6jZC2hAfTI1gY=\n",
      "https://media.istockphoto.com/photos/cute-puppy-kissing-kitten-picture-id526356029?b=1&k=6&m=526356029&s=170x170&h=sf6QCSj31a_YYXRLddz6V_LnNdGfCxKTgwQCJ4in1Ss=\n",
      "https://media.istockphoto.com/photos/puppy-and-kitten-picture-id183334500?b=1&k=6&m=183334500&s=170x170&h=1k0PYVboa-1kajsNBlTpZZsi_Ktx9cwTtdviSZ6RQr0=\n",
      "https://media.istockphoto.com/photos/adorable-scottish-straight-cat-peeking-from-behind-a-banner-picture-id1097008888?b=1&k=6&m=1097008888&s=170x170&h=VzuHKCTxIgljiTC5_FARIIT7tbbOVne5hGFgMS0v06w=\n",
      "https://media.istockphoto.com/photos/sunny-cat-picture-id508030340?b=1&k=6&m=508030340&s=170x170&h=ghFom0IMicezrXpeBEaa4ac70XvRKIxnRPfUQrv8K8Q=\n",
      "https://media.istockphoto.com/photos/portrait-of-siberian-kitten-picture-id637000686?b=1&k=6&m=637000686&s=170x170&h=s2EAwKfRDZgwxyptOT5MVnYDmKg-W7W7wKCgBMS_fuE=\n",
      "https://media.istockphoto.com/photos/cute-british-short-hairy-cat-picture-id1055045568?b=1&k=6&m=1055045568&s=170x170&h=A-yOgms3wwlEraABsd29eR2FCVpxnFwjZ-X2n-UFFtU=\n",
      "https://media.istockphoto.com/photos/big-meow-picture-id826557526?b=1&k=6&m=826557526&s=170x170&h=Xgmsb7V7gbMwq6KNQdyxXLyQqKMHda8Eo3lfRSEaRgQ=\n",
      "https://media.istockphoto.com/photos/fluffy-gray-kitten-of-a-russian-blue-cat-picture-id858701710?b=1&k=6&m=858701710&s=170x170&h=AMaqRZs5L0ts1D920sdHK7TPIG2rxmWZQWV7fg-YJWE=\n",
      "https://media.istockphoto.com/photos/kitten-with-his-paw-up-picture-id149052633?b=1&k=6&m=149052633&s=170x170&h=Xl7IoNiEKNj_UcQxsJhcXSKZKeavz83Ud4BkIyzW2ak=\n",
      "https://media.istockphoto.com/photos/cat-with-blue-eyes-looks-at-camera-picture-id1067347086?b=1&k=6&m=1067347086&s=170x170&h=0cydn9cDiPfhaAdfI_-NO-KFsfKXQJSf09XGSFPJRmA=\n",
      "https://media.istockphoto.com/photos/young-cat-plays-with-dandelion-in-back-light-picture-id477799262?b=1&k=6&m=477799262&s=170x170&h=8Y9DJ9jaASFaCl_-vIlEj8bdZs15b4iPpHpU7wn22Rs=\n"
     ]
    }
   ],
   "source": [
    "for image in images:\n",
    "    image_src =image[\"src\"]\n",
    "    print(image_src)\n",
    "    name =\"C:/Users/ARYAN GULATI/Desktop/Python_Code/14.)Web Scraping\\Web_Scraping_101/Scraping cat and dog images/cat/\"+image[\"alt\"]+\".jpg\"\n",
    "    urllib.request.urlretrieve(image_src,name)\n"
   ]
  },
  {
   "cell_type": "code",
   "execution_count": 122,
   "metadata": {},
   "outputs": [],
   "source": []
  },
  {
   "cell_type": "code",
   "execution_count": 141,
   "metadata": {},
   "outputs": [],
   "source": [
    "url =\"https://www.google.com/search?q=cute+puppy+images&sxsrf=ALeKk02w8iUI3eSALKKtyhVkcj09c2bGPg:1627897458362&source=lnms&tbm=isch&sa=X&ved=2ahUKEwjHt_HNhpLyAhVryzgGHRygDCQQ_AUoAXoECAEQAw&biw=1536&bih=754\""
   ]
  },
  {
   "cell_type": "code",
   "execution_count": 142,
   "metadata": {},
   "outputs": [],
   "source": [
    "response = requests.get(url) \n",
    "soup = BeautifulSoup(response.content, \"html.parser\")"
   ]
  },
  {
   "cell_type": "code",
   "execution_count": 143,
   "metadata": {},
   "outputs": [],
   "source": [
    "images=soup.findAll(\"img\",attrs ={\"class\":\"yWs4tf\"})"
   ]
  },
  {
   "cell_type": "code",
   "execution_count": 144,
   "metadata": {},
   "outputs": [
    {
     "name": "stdout",
     "output_type": "stream",
     "text": [
      "https://encrypted-tbn0.gstatic.com/images?q=tbn:ANd9GcQOQlJZsMPcMoPxFhBA4L2i1JFVLJl71N3nb-bacS4xeUg45DX38RzzfpK5hG0&s\n",
      "https://encrypted-tbn0.gstatic.com/images?q=tbn:ANd9GcT3UaaoOgYaXL-CUzCBhyDYfaHUzose5lYE1DhpHteih5fzZ2jMk0BLnan1V28&s\n",
      "https://encrypted-tbn0.gstatic.com/images?q=tbn:ANd9GcRSga7j9s5O9y_uRNd-je-dHpprunHeOGWhjl63NQ_y_MNjkMe0VMut-ev1bQ&s\n",
      "https://encrypted-tbn0.gstatic.com/images?q=tbn:ANd9GcQzKYgtQg06UUwgWoo_bIEZH5YTY3w6_tzfEwQRvDLp6rYcYBRrok_-iNeCsCg&s\n",
      "https://encrypted-tbn0.gstatic.com/images?q=tbn:ANd9GcTb0l5wGUsoVZm1MLMPQBHfFZMaln2X4NHFn3qD9C0T-R3tnWc4KbREMHUJyFU&s\n",
      "https://encrypted-tbn0.gstatic.com/images?q=tbn:ANd9GcRtfu_LfLx4kXlMP6qE-wsCEFZg1_a0aDiLmAFWVl80EYXQt848khsdYMGfbMY&s\n",
      "https://encrypted-tbn0.gstatic.com/images?q=tbn:ANd9GcSWV4B-UAM2MGoD3vIV97x4vIBi790VyYDvUhNVJNeBSqNCSxjd_4kAHhN80A&s\n",
      "https://encrypted-tbn0.gstatic.com/images?q=tbn:ANd9GcR9lJV5XEa7ASBGN2R56NrPufKmtcqoZsmaKTBayF1yWTzsZicA35gh13s6AGE&s\n",
      "https://encrypted-tbn0.gstatic.com/images?q=tbn:ANd9GcQA4I6CU48C7O8dHnOLvAWtxKdqSUfyLzPrL-yKwHdut8SnTFtIhEqu7UprvA&s\n",
      "https://encrypted-tbn0.gstatic.com/images?q=tbn:ANd9GcRjT6QnuAv2sZ-MeVRT8ayJbilUTGkFaZWW-2bSU09azXsHqEFDl6UpINrCbQ&s\n",
      "https://encrypted-tbn0.gstatic.com/images?q=tbn:ANd9GcTDjN5HjUskvKLc3-G-ecGiwjN3ualOjIuzhHrq2jUOKyTGJFibbnyqD6SH58M&s\n",
      "https://encrypted-tbn0.gstatic.com/images?q=tbn:ANd9GcTJCOzGSsDcMUqAMafgTisyYelB9k0hFksXCaLl3L03gIPJ8pYqVEX7BaTTmQ&s\n",
      "https://encrypted-tbn0.gstatic.com/images?q=tbn:ANd9GcTQNVoM9bwz2vwbfYp-shSlaN3r9w9ElOyrm8AWuP2ATkCPmIsFNdW5kw8pIZs&s\n",
      "https://encrypted-tbn0.gstatic.com/images?q=tbn:ANd9GcQhrBxuHOAO2l23iH-yVnux3plY4Xghx6Pl6yXhUrGYu_sgyde_6ZmHvJpqBbI&s\n",
      "https://encrypted-tbn0.gstatic.com/images?q=tbn:ANd9GcTkyhgJvc5zo0ygl_saCHjz83Q9kCC6ASQ0zZpXLqhG1HYWVPHbF_5XqH1JYDQ&s\n",
      "https://encrypted-tbn0.gstatic.com/images?q=tbn:ANd9GcQP60jy-CEV1iQ2HBUtWRTbgE7bgmyQQjZYeydMjDmvZ3AMNysKynh2bcAIIO0&s\n",
      "https://encrypted-tbn0.gstatic.com/images?q=tbn:ANd9GcSZssOkVZpJrX6It_pQyjGsjM1DbF5c9dG7UGpTUqlkJg-PbVfqfOlj3l31ngY&s\n",
      "https://encrypted-tbn0.gstatic.com/images?q=tbn:ANd9GcTJbKs9XUp7Y2KwiE-8LnvqPCitNFapzSOKItnSBfaoE4FUnmgOVo_9QgVL-g&s\n",
      "https://encrypted-tbn0.gstatic.com/images?q=tbn:ANd9GcSXdLrfSR2-UMeQZvigzq2IzqwO865gXBAgf2Wi_A91UF4x_VaqjeuvfSnT3SA&s\n",
      "https://encrypted-tbn0.gstatic.com/images?q=tbn:ANd9GcRprwAh3BetMLXrQdyr32avAf9lsRM3QYMmvZMp1O5CchiOD3tveAuilIviYQ&s\n"
     ]
    }
   ],
   "source": [
    "imgcount = 0\n",
    "\n",
    "for image in images:\n",
    "    image_src =image[\"src\"]\n",
    "    print(image_src)\n",
    "    name =\"C:/Users/ARYAN GULATI/Desktop/Python_Code/14.)Web Scraping\\Web_Scraping_101/Scraping cat and dog images/dog/\"+str(imgcount)+\".jpg\"\n",
    "    urllib.request.urlretrieve(image_src,name)\n",
    "    imgcount+=1"
   ]
  },
  {
   "cell_type": "code",
   "execution_count": 145,
   "metadata": {},
   "outputs": [],
   "source": [
    "url = \"https://www.freeimages.com/search/puppy\"\n",
    "headers = {'User-Agent':'Mozilla/5.0 (Windows NT 10.0; Win64; x64) AppleWebKit/537.36 (KHTML, like Gecko) Chrome/58.0.3029.110 Safari/537.3'}"
   ]
  },
  {
   "cell_type": "code",
   "execution_count": 146,
   "metadata": {},
   "outputs": [],
   "source": [
    "response = requests.get(url,headers = headers)\n"
   ]
  },
  {
   "cell_type": "code",
   "execution_count": 147,
   "metadata": {},
   "outputs": [],
   "source": [
    "soup =BeautifulSoup(response.content,\"html.parser\")"
   ]
  },
  {
   "cell_type": "code",
   "execution_count": 149,
   "metadata": {},
   "outputs": [],
   "source": [
    "images=soup.findAll(\"img\",attrs ={\"class\":\"nocoda\"})"
   ]
  },
  {
   "cell_type": "code",
   "execution_count": 150,
   "metadata": {},
   "outputs": [
    {
     "name": "stdout",
     "output_type": "stream",
     "text": [
      "https://media.istockphoto.com/photos/cat-and-dog-sleeping-puppy-and-kitten-sleep-picture-id1168451046?b=1&k=6&m=1168451046&s=170x170&h=yU4G1LCkk-xu262841Svlid5HaBtEN8yIsy4CEfwDgw=\n",
      "https://media.istockphoto.com/photos/groups-of-dogs-labrador-puppies-puppy-chocolate-labrador-retriever-in-picture-id1069531070?b=1&k=6&m=1069531070&s=170x170&h=bKyig6uxWKjluKUGeMfFfh_qzrTmMbyVLqTebgT3Mlw=\n",
      "https://media.istockphoto.com/photos/portrait-of-brown-puppy-with-bokeh-background-picture-id636475496?b=1&k=6&m=636475496&s=170x170&h=794hxA4bSgju0al-EWtfgG4tpKzBmrlai0h4YSgvJ7M=\n",
      "https://media.istockphoto.com/photos/puppy-running-at-the-park-picture-id1184654849?b=1&k=6&m=1184654849&s=170x170&h=uXPjH4yBkOp9lpsOoNokw9SeeKLYlx0PnWQkzu9h5Cg=\n",
      "https://media.istockphoto.com/photos/happy-dog-picture-id182176638?b=1&k=6&m=182176638&s=170x170&h=MKwtAlKtO9DpfZT-CoyXTe8Q7QqV6Zawf8rmFx9BsWI=\n",
      "https://media.istockphoto.com/photos/happy-puppy-dog-running-on-playground-green-yard-picture-id1197074302?b=1&k=6&m=1197074302&s=170x170&h=oVEs0Q1zLZ0Z4NmhV-wKfIQw1BSHJWwAgjSpagiZZhM=\n",
      "https://media.istockphoto.com/photos/adorable-welsh-corgi-pembroke-on-green-lawn-at-home-picture-id1077145200?b=1&k=6&m=1077145200&s=170x170&h=lcRLsEbo33Q7QwAhTGEHTOb0cmpUgOfqSgVrTQoIu30=\n",
      "https://media.istockphoto.com/photos/purebred-beagle-puppy-is-learning-the-world-in-first-time-picture-id639961896?b=1&k=6&m=639961896&s=170x170&h=j2uTyl9QqLcMeVazi_STO94eG0O4AUqpqouVZFc0RRg=\n",
      "https://media.istockphoto.com/photos/funny-portrait-of-cute-smilling-puppy-dog-border-collie-at-home-picture-id1140456384?b=1&k=6&m=1140456384&s=170x170&h=1Mh2AYW1yVLxd8FkaLK2Aaadb6kvfy0iZPIs2uR5Kxc=\n",
      "https://media.istockphoto.com/photos/chocolate-labrador-puppy-lying-and-chewing-a-dog-bone-picture-id1130714351?b=1&k=6&m=1130714351&s=170x170&h=ykyd2SXS5sTIdEJLYiRipCpBRQT3b5o3tcf0kUTf3q0=\n",
      "https://media.istockphoto.com/photos/golden-retriever-dog-puppy-playing-with-toy-picture-id838308750?b=1&k=6&m=838308750&s=170x170&h=MzNyzSsqppVtJ8_bx0LQyMZmrkG81lMNaEwY2LhnlQk=\n",
      "https://media.istockphoto.com/photos/adorable-litter-of-goldendoodle-puppies-in-a-basket-picture-id1148221339?b=1&k=6&m=1148221339&s=170x170&h=JJYBW1cVLLGKseitG1Zbj5vKNUUC6y6zCAf_vnCkWZ8=\n",
      "https://media.istockphoto.com/photos/little-dog-picture-id154924213?b=1&k=6&m=154924213&s=170x170&h=nY3YgdJY5ZCFbKO7VRlT_3BTXtH-EYIItSqlM_s0k8Y=\n",
      "https://media.istockphoto.com/photos/corgi-puppy-sitting-down-picture-id1130502863?b=1&k=6&m=1130502863&s=170x170&h=cokTahpDWl6WwweRA4jJAz6s4wCsFQthtqXzn-p6Tw0=\n",
      "https://media.istockphoto.com/photos/puppy-chocolate-brown-labrador-picture-id1160123255?b=1&k=6&m=1160123255&s=170x170&h=U7CI2S4iZSJgkgouhSd9rOrfUxAsr1mY7nNqKyH8lMA=\n",
      "https://media.istockphoto.com/photos/adorable-german-shepherd-puppy-lying-in-the-grass-and-sticking-out-picture-id1133304849?b=1&k=6&m=1133304849&s=170x170&h=4yUg9xRkojwY2CJ9olwQ8ebRkI91ha0J6NHXl6F6D64=\n",
      "https://media.istockphoto.com/photos/portrait-of-brown-cute-labrador-retriever-puppy-with-sunset-bokeh-picture-id646108884?b=1&k=6&m=646108884&s=170x170&h=ddW0FJFOuupG0Wu73D--vq7sxaPrExudlnSf38IBuh0=\n",
      "https://media.istockphoto.com/photos/crazy-looking-black-and-white-border-collie-dog-say-looking-intently-picture-id1213516345?b=1&k=6&m=1213516345&s=170x170&h=PQGWwpjyynW2kjiVfzWPKD9d7NlWnf-V4UKJRWpbaEs=\n",
      "https://media.istockphoto.com/photos/cute-puppy-and-kitten-on-the-grass-outdoor-picture-id619961796?b=1&k=6&m=619961796&s=170x170&h=HSZvQJ3lpyduONzvZavmQSzq6v8Tk6VXN2FAlKxuE7E=\n",
      "https://media.istockphoto.com/photos/jumping-golden-retriever-puppy-picture-id465377790?b=1&k=6&m=465377790&s=170x170&h=dJRAGPgx1_2HWonKe1AeOVVKarcTF4CYLF0PhMe34KM=\n",
      "https://media.istockphoto.com/photos/happy-doggy-fast-running-on-grass-picture-id186278106?b=1&k=6&m=186278106&s=170x170&h=7KZ_ZS8YSBP2Jlqugcq3D93LBeatN08uNjgPTQqux2k=\n",
      "https://media.istockphoto.com/photos/english-cocker-spaniel-puppy-eating-dog-food-picture-id1201203743?b=1&k=6&m=1201203743&s=170x170&h=1TjYlLurg8fFi1cRTqpdZdU7MjOyAiLrmmWxG_yhdtA=\n",
      "https://media.istockphoto.com/photos/golden-retriver-puppy-on-white-background-picture-id961298978?b=1&k=6&m=961298978&s=170x170&h=cuHY1RBBaPUyx2KSFZpaXG94uDvkmLgBj_cxBrrpffE=\n",
      "https://media.istockphoto.com/photos/cardigan-welsh-corgi-litter-of-puppies-picture-id1170081255?b=1&k=6&m=1170081255&s=170x170&h=mnMrsT_gkqy92C47KXRAgX2v-84WugF3EE1tIHRjYqU=\n",
      "https://media.istockphoto.com/photos/cute-puppy-and-kitten-on-the-grass-outdoor-picture-id619961796?b=1&k=6&m=619961796&s=170x170&h=HSZvQJ3lpyduONzvZavmQSzq6v8Tk6VXN2FAlKxuE7E=\n",
      "https://media.istockphoto.com/photos/jumping-golden-retriever-puppy-picture-id465377790?b=1&k=6&m=465377790&s=170x170&h=dJRAGPgx1_2HWonKe1AeOVVKarcTF4CYLF0PhMe34KM=\n",
      "https://media.istockphoto.com/photos/happy-doggy-fast-running-on-grass-picture-id186278106?b=1&k=6&m=186278106&s=170x170&h=7KZ_ZS8YSBP2Jlqugcq3D93LBeatN08uNjgPTQqux2k=\n",
      "https://media.istockphoto.com/photos/english-cocker-spaniel-puppy-eating-dog-food-picture-id1201203743?b=1&k=6&m=1201203743&s=170x170&h=1TjYlLurg8fFi1cRTqpdZdU7MjOyAiLrmmWxG_yhdtA=\n",
      "https://media.istockphoto.com/photos/golden-retriver-puppy-on-white-background-picture-id961298978?b=1&k=6&m=961298978&s=170x170&h=cuHY1RBBaPUyx2KSFZpaXG94uDvkmLgBj_cxBrrpffE=\n",
      "https://media.istockphoto.com/photos/cardigan-welsh-corgi-litter-of-puppies-picture-id1170081255?b=1&k=6&m=1170081255&s=170x170&h=mnMrsT_gkqy92C47KXRAgX2v-84WugF3EE1tIHRjYqU=\n",
      "https://media.istockphoto.com/photos/cute-little-puppies-on-shelf-with-books-on-light-background-picture-id1133605325?b=1&k=6&m=1133605325&s=170x170&h=CBKctKis_AEpw5pMaTJbzWcfL7h9sgVHCv40TMkdAG4=\n",
      "https://media.istockphoto.com/photos/cute-homemade-corgi-puppy-lies-in-a-white-fluffy-blanket-funny-out-picture-id1067074306?b=1&k=6&m=1067074306&s=170x170&h=dz5xZ4owkgY_CSLG-QbCy8FVkQT7LHChxci7ZazH7G0=\n",
      "https://media.istockphoto.com/photos/three-jack-russell-puppies-play-on-the-grass-picture-id1177008347?b=1&k=6&m=1177008347&s=170x170&h=1GFAP8in085Z37UXpRerUTEuIQBGgvgKBJY20kXrVDY=\n",
      "https://media.istockphoto.com/photos/one-pouting-sulking-puppy-and-three-content-puppies-picture-id946368826?b=1&k=6&m=946368826&s=170x170&h=fGj-68EbNcMQDrUcNKk1tkWnWUAwrnKh5yfvi4dCCMk=\n",
      "https://media.istockphoto.com/photos/rescue-animal-cute-chocolate-and-tan-doberman-puppy-picture-id1124558739?b=1&k=6&m=1124558739&s=170x170&h=2CLq3jUlaZd2ildrmwY8vGkfTlfkndhzuCp60x7yKrA=\n"
     ]
    }
   ],
   "source": [
    "imgcount = 0\n",
    "\n",
    "for image in images:\n",
    "    image_src =image[\"src\"]\n",
    "    print(image_src)\n",
    "    name =\"C:/Users/ARYAN GULATI/Desktop/Python_Code/14.)Web Scraping\\Web_Scraping_101/Scraping cat and dog images/dog/\"+image[\"alt\"]+\".jpg\"\n",
    "    urllib.request.urlretrieve(image_src,name)\n",
    "    number+=1\n"
   ]
  },
  {
   "cell_type": "code",
   "execution_count": 10,
   "metadata": {},
   "outputs": [],
   "source": [
    "url  = \"https://unsplash.com/s/photos/kitten\""
   ]
  },
  {
   "cell_type": "code",
   "execution_count": 11,
   "metadata": {},
   "outputs": [],
   "source": [
    "response = requests.get(url)"
   ]
  },
  {
   "cell_type": "code",
   "execution_count": 12,
   "metadata": {},
   "outputs": [],
   "source": [
    "soup = BeautifulSoup(response.content, \"html.parser\")"
   ]
  },
  {
   "cell_type": "code",
   "execution_count": 13,
   "metadata": {},
   "outputs": [],
   "source": [
    "d1=soup.findAll(\"div\", {\"class\":\"_1ZjfQ\"})"
   ]
  },
  {
   "cell_type": "code",
   "execution_count": 15,
   "metadata": {},
   "outputs": [],
   "source": [
    "# d1"
   ]
  },
  {
   "cell_type": "code",
   "execution_count": 16,
   "metadata": {},
   "outputs": [],
   "source": [
    "images=soup.findAll(\"img\",attrs ={\"class\":\"oCCRx\"})"
   ]
  },
  {
   "cell_type": "code",
   "execution_count": 18,
   "metadata": {},
   "outputs": [],
   "source": [
    "# images"
   ]
  },
  {
   "cell_type": "code",
   "execution_count": 20,
   "metadata": {},
   "outputs": [
    {
     "name": "stdout",
     "output_type": "stream",
     "text": [
      "https://images.unsplash.com/photo-1560114928-40f1f1eb26a0?ixid=MnwxMjA3fDB8MHxzZWFyY2h8MXx8a2l0dGVufGVufDB8fDB8fA%3D%3D&ixlib=rb-1.2.1&w=1000&q=80\n",
      "https://images.unsplash.com/photo-1591871937573-74dbba515c4c?ixid=MnwxMjA3fDB8MHxzZWFyY2h8M3x8a2l0dGVufGVufDB8fDB8fA%3D%3D&ixlib=rb-1.2.1&w=1000&q=80\n",
      "https://images.unsplash.com/photo-1555685812-4b943f1cb0eb?ixid=MnwxMjA3fDB8MHxzZWFyY2h8Mnx8a2l0dGVufGVufDB8fDB8fA%3D%3D&ixlib=rb-1.2.1&w=1000&q=80\n",
      "https://images.unsplash.com/photo-1560114928-40f1f1eb26a0?ixid=MnwxMjA3fDB8MHxzZWFyY2h8MXx8a2l0dGVufGVufDB8fDB8fA%3D%3D&ixlib=rb-1.2.1&w=1000&q=80\n",
      "https://images.unsplash.com/photo-1555685812-4b943f1cb0eb?ixid=MnwxMjA3fDB8MHxzZWFyY2h8Mnx8a2l0dGVufGVufDB8fDB8fA%3D%3D&ixlib=rb-1.2.1&w=1000&q=80\n",
      "https://images.unsplash.com/photo-1591871937573-74dbba515c4c?ixid=MnwxMjA3fDB8MHxzZWFyY2h8M3x8a2l0dGVufGVufDB8fDB8fA%3D%3D&ixlib=rb-1.2.1&w=1000&q=80\n",
      "https://images.unsplash.com/photo-1560114928-40f1f1eb26a0?ixid=MnwxMjA3fDB8MHxzZWFyY2h8MXx8a2l0dGVufGVufDB8fDB8fA%3D%3D&ixlib=rb-1.2.1&w=1000&q=80\n",
      "https://images.unsplash.com/photo-1555685812-4b943f1cb0eb?ixid=MnwxMjA3fDB8MHxzZWFyY2h8Mnx8a2l0dGVufGVufDB8fDB8fA%3D%3D&ixlib=rb-1.2.1&w=1000&q=80\n",
      "https://images.unsplash.com/photo-1591871937573-74dbba515c4c?ixid=MnwxMjA3fDB8MHxzZWFyY2h8M3x8a2l0dGVufGVufDB8fDB8fA%3D%3D&ixlib=rb-1.2.1&w=1000&q=80\n"
     ]
    }
   ],
   "source": [
    "imgcount = 0\n",
    "\n",
    "for image in images:\n",
    "    image_src =image[\"src\"]\n",
    "    print(image_src)\n",
    "    name =\"C:/Users/ARYAN GULATI/Desktop/Python_Code/14.)Web Scraping\\Web_Scraping_101/Scraping cat and dog images/cat/\"+image[\"alt\"]+\".jpg\"\n",
    "    urllib.request.urlretrieve(image_src,name)\n",
    "\n"
   ]
  },
  {
   "cell_type": "code",
   "execution_count": 3,
   "metadata": {},
   "outputs": [],
   "source": [
    "url = \"https://unsplash.com/s/photos/puppy-dog\""
   ]
  },
  {
   "cell_type": "code",
   "execution_count": 6,
   "metadata": {},
   "outputs": [],
   "source": [
    "response = requests.get(url)"
   ]
  },
  {
   "cell_type": "code",
   "execution_count": 7,
   "metadata": {},
   "outputs": [],
   "source": [
    "soup = BeautifulSoup(response.content, \"html.parser\")"
   ]
  },
  {
   "cell_type": "code",
   "execution_count": 8,
   "metadata": {},
   "outputs": [],
   "source": [
    "images=soup.findAll(\"img\",attrs ={\"class\":\"oCCRx\"})"
   ]
  },
  {
   "cell_type": "code",
   "execution_count": 21,
   "metadata": {},
   "outputs": [
    {
     "name": "stdout",
     "output_type": "stream",
     "text": [
      "https://images.unsplash.com/photo-1560114928-40f1f1eb26a0?ixid=MnwxMjA3fDB8MHxzZWFyY2h8MXx8a2l0dGVufGVufDB8fDB8fA%3D%3D&ixlib=rb-1.2.1&w=1000&q=80\n",
      "https://images.unsplash.com/photo-1591871937573-74dbba515c4c?ixid=MnwxMjA3fDB8MHxzZWFyY2h8M3x8a2l0dGVufGVufDB8fDB8fA%3D%3D&ixlib=rb-1.2.1&w=1000&q=80\n",
      "https://images.unsplash.com/photo-1555685812-4b943f1cb0eb?ixid=MnwxMjA3fDB8MHxzZWFyY2h8Mnx8a2l0dGVufGVufDB8fDB8fA%3D%3D&ixlib=rb-1.2.1&w=1000&q=80\n",
      "https://images.unsplash.com/photo-1560114928-40f1f1eb26a0?ixid=MnwxMjA3fDB8MHxzZWFyY2h8MXx8a2l0dGVufGVufDB8fDB8fA%3D%3D&ixlib=rb-1.2.1&w=1000&q=80\n",
      "https://images.unsplash.com/photo-1555685812-4b943f1cb0eb?ixid=MnwxMjA3fDB8MHxzZWFyY2h8Mnx8a2l0dGVufGVufDB8fDB8fA%3D%3D&ixlib=rb-1.2.1&w=1000&q=80\n",
      "https://images.unsplash.com/photo-1591871937573-74dbba515c4c?ixid=MnwxMjA3fDB8MHxzZWFyY2h8M3x8a2l0dGVufGVufDB8fDB8fA%3D%3D&ixlib=rb-1.2.1&w=1000&q=80\n",
      "https://images.unsplash.com/photo-1560114928-40f1f1eb26a0?ixid=MnwxMjA3fDB8MHxzZWFyY2h8MXx8a2l0dGVufGVufDB8fDB8fA%3D%3D&ixlib=rb-1.2.1&w=1000&q=80\n",
      "https://images.unsplash.com/photo-1555685812-4b943f1cb0eb?ixid=MnwxMjA3fDB8MHxzZWFyY2h8Mnx8a2l0dGVufGVufDB8fDB8fA%3D%3D&ixlib=rb-1.2.1&w=1000&q=80\n",
      "https://images.unsplash.com/photo-1591871937573-74dbba515c4c?ixid=MnwxMjA3fDB8MHxzZWFyY2h8M3x8a2l0dGVufGVufDB8fDB8fA%3D%3D&ixlib=rb-1.2.1&w=1000&q=80\n"
     ]
    }
   ],
   "source": [
    "imgcount = 0\n",
    "\n",
    "for image in images:\n",
    "    image_src =image[\"src\"]\n",
    "    print(image_src)\n",
    "    name =\"C:/Users/ARYAN GULATI/Desktop/Python_Code/14.)Web Scraping\\Web_Scraping_101/Scraping cat and dog images/dog/\"+image[\"alt\"]+\".jpg\"\n",
    "    urllib.request.urlretrieve(image_src,name)\n"
   ]
  },
  {
   "cell_type": "code",
   "execution_count": null,
   "metadata": {},
   "outputs": [],
   "source": []
  }
 ],
 "metadata": {
  "kernelspec": {
   "display_name": "Python 3",
   "language": "python",
   "name": "python3"
  },
  "language_info": {
   "codemirror_mode": {
    "name": "ipython",
    "version": 3
   },
   "file_extension": ".py",
   "mimetype": "text/x-python",
   "name": "python",
   "nbconvert_exporter": "python",
   "pygments_lexer": "ipython3",
   "version": "3.8.5"
  }
 },
 "nbformat": 4,
 "nbformat_minor": 4
}
